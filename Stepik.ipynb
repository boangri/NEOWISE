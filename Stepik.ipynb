{
 "cells": [
  {
   "cell_type": "markdown",
   "metadata": {},
   "source": [
    "# Вычисление экваториальных координат кометы\n",
    "\n",
    "Для нахождения регресcии между пиксельными координатами и экваториальными используется\n",
    "модель Network из git@github.com:stacymiller/stepic_neural_networks_public.git\n",
    "\n",
    "Данные для модели подготавливаются в модуле PrepareData"
   ]
  },
  {
   "cell_type": "code",
   "execution_count": 1,
   "metadata": {},
   "outputs": [
    {
     "name": "stdout",
     "output_type": "stream",
     "text": [
      "importing Jupyter notebook from PrepareData.ipynb\n",
      "PrepareData v1.04 26.07.2020\n"
     ]
    }
   ],
   "source": [
    "import math\n",
    "import numpy as np\n",
    "import pandas as pd\n",
    "from matplotlib import pyplot as plt\n",
    "%matplotlib inline\n",
    "import NotebookLoader\n",
    "from PrepareData import load_stars, load_comet\n",
    "import Networks.stepik"
   ]
  },
  {
   "cell_type": "code",
   "execution_count": 2,
   "metadata": {},
   "outputs": [],
   "source": [
    "(x_train, y_train), (x_test, y_test), (mean, std) = load_stars()"
   ]
  },
  {
   "cell_type": "code",
   "execution_count": 3,
   "metadata": {},
   "outputs": [],
   "source": [
    "train_data = list(zip(x_train, y_train))"
   ]
  },
  {
   "cell_type": "code",
   "execution_count": 5,
   "metadata": {},
   "outputs": [
    {
     "data": {
      "text/plain": [
       "[(array([-0.03501677071309596, 0.20538485182676028], dtype=object),\n",
       "  array([0.48398026439693964, -0.030799535163201882], dtype=object)),\n",
       " (array([-1.015086729901319, -1.6090997030986252], dtype=object),\n",
       "  array([1.1769032424653145, 1.192949453011883], dtype=object)),\n",
       " (array([-1.015086729901319, -0.0936313295092583], dtype=object),\n",
       "  array([0.06266399285583082, 0.9937660909607826], dtype=object)),\n",
       " (array([-0.8928027716906785, 0.7082757022555188], dtype=object),\n",
       "  array([-0.39837048440338924, 0.802609336803867], dtype=object)),\n",
       " (array([-0.8604334886349206, -0.8071926713338481], dtype=object),\n",
       "  array([0.7960472714688958, 0.9238728591437179], dtype=object)),\n",
       " (array([1.409012912274323, 1.5305702009295699], dtype=object),\n",
       "  array([-1.7464663993620815, -1.2596114606253892], dtype=object)),\n",
       " (array([-0.7813085744986237, -0.5013806676947382], dtype=object),\n",
       "  array([0.6442727469376214, 0.8077957603662637], dtype=object)),\n",
       " (array([-0.218442708029057, -1.2285336541255107], dtype=object),\n",
       "  array([1.6320332261043773, 0.20826989380823727], dtype=object)),\n",
       " (array([-0.052999705744072534, -0.5557472461194689], dtype=object),\n",
       "  array([1.108114278540851, -0.00820154678418696], dtype=object)),\n",
       " (array([1.1338740063003814, 1.63250753547594], dtype=object),\n",
       "  array([-1.4432722652165926, -1.0441279102353265], dtype=object)),\n",
       " (array([0.936061720959639, 0.5927467231029662], dtype=object),\n",
       "  array([-0.4181489247812966, -0.9779392666771175], dtype=object)),\n",
       " (array([-1.088816763528323, 0.5723592561936922], dtype=object),\n",
       "  array([-0.5286565239563836, 0.9888266399489746], dtype=object)),\n",
       " (array([1.5672627405469166, 0.8170088591049801], dtype=object),\n",
       "  array([-1.5056082306490803, -1.451015187332895], dtype=object)),\n",
       " (array([0.6465364669609162, 1.2655331311090081], dtype=object),\n",
       "  array([-0.6612979079589492, -0.6684826607874345], dtype=object)),\n",
       " (array([-1.6049269989173507, -1.5547331246738947], dtype=object),\n",
       "  array([0.07834477919133284, 1.71048043277392], dtype=object)),\n",
       " (array([-0.6931921928468385, 1.0072918835915374], dtype=object),\n",
       "  array([-0.4463162631987713, 0.5998448727692048], dtype=object)),\n",
       " (array([0.22034090672677137, -0.052856395690710316], dtype=object),\n",
       "  array([0.6489189058518445, -0.3103724624314559], dtype=object)),\n",
       " (array([-1.408913007079706, -1.5139581908553466], dtype=object),\n",
       "  array([0.43129153170995654, 1.5455027689795797], dtype=object)),\n",
       " (array([1.2795357800512914, 0.6675007684369708], dtype=object),\n",
       "  array([-0.9346146590865893, -1.2554129272653538], dtype=object)),\n",
       " (array([1.4791463588951315, 1.2383498418966428], dtype=object),\n",
       "  array([-1.6580603200220116, -1.3392601081907707], dtype=object)),\n",
       " (array([-0.8784164236658972, -0.03246892878143632], dtype=object),\n",
       "  array([0.18214125993476507, 0.8584251332372816], dtype=object)),\n",
       " (array([-0.46121233094724073, 0.9325378382575328], dtype=object),\n",
       "  array([-0.2775703526335999, 0.4631455660174578], dtype=object)),\n",
       " (array([0.022528621386029075, -0.0732438625999843], dtype=object),\n",
       "  array([0.7102546565180752, -0.09488891204139267], dtype=object)),\n",
       " (array([-0.6500331487724947, -2.302273578013941], dtype=object),\n",
       "  array([2.1765372388573057, 0.8664517411314671], dtype=object)),\n",
       " (array([0.5260508022533731, -1.153779608791506], dtype=object),\n",
       "  array([1.3513923216883437, -0.7251628611479151], dtype=object)),\n",
       " (array([1.08891666872294, -1.4459999678244333], dtype=object),\n",
       "  array([0.8609967012906327, -1.3713665397675132], dtype=object)),\n",
       " (array([-0.6788058448220573, 0.5859509007998749], dtype=object),\n",
       "  array([-0.10824367220415151, 0.6145397395293295], dtype=object)),\n",
       " (array([-0.5942860501764674, -0.018877284175253656], dtype=object),\n",
       "  array([0.4486178326609104, 0.5736657824066302], dtype=object)),\n",
       " (array([1.3442743461628073, 1.652895002385214], dtype=object),\n",
       "  array([-1.746176014429943, -1.199720617107234], dtype=object)),\n",
       " (array([1.4737514783858385, 0.5383801446782356], dtype=object),\n",
       "  array([-1.152209768236018, -1.418908755756152], dtype=object))]"
      ]
     },
     "execution_count": 5,
     "metadata": {},
     "output_type": "execute_result"
    }
   ],
   "source": [
    "train_data"
   ]
  },
  {
   "cell_type": "code",
   "execution_count": 4,
   "metadata": {},
   "outputs": [
    {
     "name": "stdout",
     "output_type": "stream",
     "text": [
      "input [-0.03501677071309596 0.20538485182676028] [0.48398026439693964 -0.030799535163201882]\n",
      "z= [[-2.8814841950223724 -2.175496725124113 -2.3751079381691977]\n",
      " [-1.421186064278872 -0.7151985943806124 -0.9148098074256971]\n",
      " [-2.111058874755546 -1.4050714048572868 -1.6046826179023714]] [[ 0.43627834 -2.01225105]\n",
      " [-1.02703013  1.17565266]\n",
      " [ 0.10250775  0.39634278]] [-0.03501677071309596 0.20538485182676028]\n"
     ]
    },
    {
     "ename": "TypeError",
     "evalue": "loop of ufunc does not support argument 0 of type float which has no callable exp method",
     "output_type": "error",
     "traceback": [
      "\u001b[1;31m---------------------------------------------------------------------------\u001b[0m",
      "\u001b[1;31mAttributeError\u001b[0m                            Traceback (most recent call last)",
      "\u001b[1;31mAttributeError\u001b[0m: 'float' object has no attribute 'exp'",
      "\nThe above exception was the direct cause of the following exception:\n",
      "\u001b[1;31mTypeError\u001b[0m                                 Traceback (most recent call last)",
      "\u001b[1;32m<ipython-input-4-0572ceb96e14>\u001b[0m in \u001b[0;36m<module>\u001b[1;34m\u001b[0m\n\u001b[0;32m      3\u001b[0m \u001b[0mmini_batch_size\u001b[0m \u001b[1;33m=\u001b[0m \u001b[1;36m2\u001b[0m\u001b[1;33m\u001b[0m\u001b[1;33m\u001b[0m\u001b[0m\n\u001b[0;32m      4\u001b[0m \u001b[0meta\u001b[0m \u001b[1;33m=\u001b[0m \u001b[1;36m0.001\u001b[0m\u001b[1;33m\u001b[0m\u001b[1;33m\u001b[0m\u001b[0m\n\u001b[1;32m----> 5\u001b[1;33m \u001b[0mmodel\u001b[0m\u001b[1;33m.\u001b[0m\u001b[0mSGD\u001b[0m\u001b[1;33m(\u001b[0m\u001b[0mtrain_data\u001b[0m\u001b[1;33m,\u001b[0m \u001b[0mepochs\u001b[0m\u001b[1;33m,\u001b[0m \u001b[0mmini_batch_size\u001b[0m\u001b[1;33m,\u001b[0m \u001b[0meta\u001b[0m\u001b[1;33m,\u001b[0m \u001b[0mtest_data\u001b[0m\u001b[1;33m=\u001b[0m\u001b[1;32mNone\u001b[0m\u001b[1;33m)\u001b[0m\u001b[1;33m\u001b[0m\u001b[1;33m\u001b[0m\u001b[0m\n\u001b[0m",
      "\u001b[1;32m~\\notebooks\\NEOWISE\\Networks\\stepik.py\u001b[0m in \u001b[0;36mSGD\u001b[1;34m(self, training_data, epochs, mini_batch_size, eta, test_data)\u001b[0m\n\u001b[0;32m     95\u001b[0m                 for k in range(0, n, mini_batch_size)]\n\u001b[0;32m     96\u001b[0m             \u001b[1;32mfor\u001b[0m \u001b[0mmini_batch\u001b[0m \u001b[1;32min\u001b[0m \u001b[0mmini_batches\u001b[0m\u001b[1;33m:\u001b[0m\u001b[1;33m\u001b[0m\u001b[1;33m\u001b[0m\u001b[0m\n\u001b[1;32m---> 97\u001b[1;33m                 \u001b[0mself\u001b[0m\u001b[1;33m.\u001b[0m\u001b[0mupdate_mini_batch\u001b[0m\u001b[1;33m(\u001b[0m\u001b[0mmini_batch\u001b[0m\u001b[1;33m,\u001b[0m \u001b[0meta\u001b[0m\u001b[1;33m)\u001b[0m\u001b[1;33m\u001b[0m\u001b[1;33m\u001b[0m\u001b[0m\n\u001b[0m\u001b[0;32m     98\u001b[0m             \u001b[1;32mif\u001b[0m \u001b[0mtest_data\u001b[0m \u001b[1;32mis\u001b[0m \u001b[1;32mnot\u001b[0m \u001b[1;32mNone\u001b[0m\u001b[1;33m:\u001b[0m\u001b[1;33m\u001b[0m\u001b[1;33m\u001b[0m\u001b[0m\n\u001b[0;32m     99\u001b[0m                 \u001b[0msuccess_tests\u001b[0m \u001b[1;33m=\u001b[0m \u001b[0mself\u001b[0m\u001b[1;33m.\u001b[0m\u001b[0mevaluate\u001b[0m\u001b[1;33m(\u001b[0m\u001b[0mtest_data\u001b[0m\u001b[1;33m)\u001b[0m\u001b[1;33m\u001b[0m\u001b[1;33m\u001b[0m\u001b[0m\n",
      "\u001b[1;32m~\\notebooks\\NEOWISE\\Networks\\stepik.py\u001b[0m in \u001b[0;36mupdate_mini_batch\u001b[1;34m(self, mini_batch, eta)\u001b[0m\n\u001b[0;32m    117\u001b[0m         \u001b[0mnabla_w\u001b[0m \u001b[1;33m=\u001b[0m \u001b[1;33m[\u001b[0m\u001b[0mnp\u001b[0m\u001b[1;33m.\u001b[0m\u001b[0mzeros\u001b[0m\u001b[1;33m(\u001b[0m\u001b[0mw\u001b[0m\u001b[1;33m.\u001b[0m\u001b[0mshape\u001b[0m\u001b[1;33m)\u001b[0m \u001b[1;32mfor\u001b[0m \u001b[0mw\u001b[0m \u001b[1;32min\u001b[0m \u001b[0mself\u001b[0m\u001b[1;33m.\u001b[0m\u001b[0mweights\u001b[0m\u001b[1;33m]\u001b[0m\u001b[1;33m\u001b[0m\u001b[1;33m\u001b[0m\u001b[0m\n\u001b[0;32m    118\u001b[0m         \u001b[1;32mfor\u001b[0m \u001b[0mx\u001b[0m\u001b[1;33m,\u001b[0m \u001b[0my\u001b[0m \u001b[1;32min\u001b[0m \u001b[0mmini_batch\u001b[0m\u001b[1;33m:\u001b[0m\u001b[1;33m\u001b[0m\u001b[1;33m\u001b[0m\u001b[0m\n\u001b[1;32m--> 119\u001b[1;33m             \u001b[0mdelta_nabla_b\u001b[0m\u001b[1;33m,\u001b[0m \u001b[0mdelta_nabla_w\u001b[0m \u001b[1;33m=\u001b[0m \u001b[0mself\u001b[0m\u001b[1;33m.\u001b[0m\u001b[0mbackprop\u001b[0m\u001b[1;33m(\u001b[0m\u001b[0mx\u001b[0m\u001b[1;33m,\u001b[0m \u001b[0my\u001b[0m\u001b[1;33m)\u001b[0m\u001b[1;33m\u001b[0m\u001b[1;33m\u001b[0m\u001b[0m\n\u001b[0m\u001b[0;32m    120\u001b[0m             \u001b[0mnabla_b\u001b[0m \u001b[1;33m=\u001b[0m \u001b[1;33m[\u001b[0m\u001b[0mnb\u001b[0m \u001b[1;33m+\u001b[0m \u001b[0mdnb\u001b[0m \u001b[1;32mfor\u001b[0m \u001b[0mnb\u001b[0m\u001b[1;33m,\u001b[0m \u001b[0mdnb\u001b[0m \u001b[1;32min\u001b[0m \u001b[0mzip\u001b[0m\u001b[1;33m(\u001b[0m\u001b[0mnabla_b\u001b[0m\u001b[1;33m,\u001b[0m \u001b[0mdelta_nabla_b\u001b[0m\u001b[1;33m)\u001b[0m\u001b[1;33m]\u001b[0m\u001b[1;33m\u001b[0m\u001b[1;33m\u001b[0m\u001b[0m\n\u001b[0;32m    121\u001b[0m             \u001b[0mnabla_w\u001b[0m \u001b[1;33m=\u001b[0m \u001b[1;33m[\u001b[0m\u001b[0mnw\u001b[0m \u001b[1;33m+\u001b[0m \u001b[0mdnw\u001b[0m \u001b[1;32mfor\u001b[0m \u001b[0mnw\u001b[0m\u001b[1;33m,\u001b[0m \u001b[0mdnw\u001b[0m \u001b[1;32min\u001b[0m \u001b[0mzip\u001b[0m\u001b[1;33m(\u001b[0m\u001b[0mnabla_w\u001b[0m\u001b[1;33m,\u001b[0m \u001b[0mdelta_nabla_w\u001b[0m\u001b[1;33m)\u001b[0m\u001b[1;33m]\u001b[0m\u001b[1;33m\u001b[0m\u001b[1;33m\u001b[0m\u001b[0m\n",
      "\u001b[1;32m~\\notebooks\\NEOWISE\\Networks\\stepik.py\u001b[0m in \u001b[0;36mbackprop\u001b[1;34m(self, x, y)\u001b[0m\n\u001b[0;32m    144\u001b[0m             \u001b[0mzs\u001b[0m\u001b[1;33m.\u001b[0m\u001b[0mappend\u001b[0m\u001b[1;33m(\u001b[0m\u001b[0mz\u001b[0m\u001b[1;33m)\u001b[0m\u001b[1;33m\u001b[0m\u001b[1;33m\u001b[0m\u001b[0m\n\u001b[0;32m    145\u001b[0m             \u001b[0mprint\u001b[0m\u001b[1;33m(\u001b[0m\u001b[1;34m'z='\u001b[0m\u001b[1;33m,\u001b[0m \u001b[0mz\u001b[0m\u001b[1;33m,\u001b[0m \u001b[0mw\u001b[0m\u001b[1;33m,\u001b[0m \u001b[0mactivation\u001b[0m\u001b[1;33m)\u001b[0m\u001b[1;33m\u001b[0m\u001b[1;33m\u001b[0m\u001b[0m\n\u001b[1;32m--> 146\u001b[1;33m             \u001b[0mactivation\u001b[0m \u001b[1;33m=\u001b[0m \u001b[0msigmoid\u001b[0m\u001b[1;33m(\u001b[0m\u001b[0mz\u001b[0m\u001b[1;33m)\u001b[0m\u001b[1;33m\u001b[0m\u001b[1;33m\u001b[0m\u001b[0m\n\u001b[0m\u001b[0;32m    147\u001b[0m             \u001b[0mactivations\u001b[0m\u001b[1;33m.\u001b[0m\u001b[0mappend\u001b[0m\u001b[1;33m(\u001b[0m\u001b[0mactivation\u001b[0m\u001b[1;33m)\u001b[0m\u001b[1;33m\u001b[0m\u001b[1;33m\u001b[0m\u001b[0m\n\u001b[0;32m    148\u001b[0m \u001b[1;33m\u001b[0m\u001b[0m\n",
      "\u001b[1;32m~\\notebooks\\NEOWISE\\Networks\\stepik.py\u001b[0m in \u001b[0;36msigmoid\u001b[1;34m(z)\u001b[0m\n\u001b[0;32m     18\u001b[0m     \u001b[0mСигмоида\u001b[0m\u001b[1;33m\u001b[0m\u001b[1;33m\u001b[0m\u001b[0m\n\u001b[0;32m     19\u001b[0m     \"\"\"\n\u001b[1;32m---> 20\u001b[1;33m     \u001b[1;32mreturn\u001b[0m \u001b[1;36m1.0\u001b[0m \u001b[1;33m/\u001b[0m \u001b[1;33m(\u001b[0m\u001b[1;36m1.0\u001b[0m \u001b[1;33m+\u001b[0m \u001b[0mnp\u001b[0m\u001b[1;33m.\u001b[0m\u001b[0mexp\u001b[0m\u001b[1;33m(\u001b[0m\u001b[1;33m-\u001b[0m\u001b[0mz\u001b[0m\u001b[1;33m)\u001b[0m\u001b[1;33m)\u001b[0m\u001b[1;33m\u001b[0m\u001b[1;33m\u001b[0m\u001b[0m\n\u001b[0m\u001b[0;32m     21\u001b[0m \u001b[1;33m\u001b[0m\u001b[0m\n\u001b[0;32m     22\u001b[0m \u001b[1;33m\u001b[0m\u001b[0m\n",
      "\u001b[1;31mTypeError\u001b[0m: loop of ufunc does not support argument 0 of type float which has no callable exp method"
     ]
    }
   ],
   "source": [
    "model = Networks.stepik.Network([2, 3, 2])\n",
    "epochs = 10\n",
    "mini_batch_size = 2\n",
    "eta = 0.001\n",
    "model.SGD(train_data, epochs, mini_batch_size, eta, test_data=None)"
   ]
  },
  {
   "cell_type": "code",
   "execution_count": null,
   "metadata": {},
   "outputs": [],
   "source": []
  }
 ],
 "metadata": {
  "kernelspec": {
   "display_name": "Python 3",
   "language": "python",
   "name": "python3"
  },
  "language_info": {
   "codemirror_mode": {
    "name": "ipython",
    "version": 3
   },
   "file_extension": ".py",
   "mimetype": "text/x-python",
   "name": "python",
   "nbconvert_exporter": "python",
   "pygments_lexer": "ipython3",
   "version": "3.7.5"
  }
 },
 "nbformat": 4,
 "nbformat_minor": 2
}
