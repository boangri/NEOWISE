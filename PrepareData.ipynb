{
 "cells": [
  {
   "cell_type": "markdown",
   "metadata": {
    "colab_type": "text",
    "id": "7ZzomFADN0ts"
   },
   "source": [
    "# Подготовка данных для регрессионного анализа\n",
    "\n",
    "Чтение данных из CSV-файлов, пересчет в радианы, нормализация значений.\n",
    "\n",
    "Created: 23.07.2020\n",
    "\n",
    "Last updated: 24.07.2020"
   ]
  },
  {
   "cell_type": "code",
   "execution_count": 92,
   "metadata": {
    "colab": {},
    "colab_type": "code",
    "id": "AZzGvJoIN0tw"
   },
   "outputs": [],
   "source": [
    "import numpy as np\n",
    "import pandas as pd\n",
    "import math"
   ]
  },
  {
   "cell_type": "markdown",
   "metadata": {
    "colab_type": "text",
    "id": "WcKb_057N0t3"
   },
   "source": [
    "Загружаем таблицу с положениями кометы в пикселях."
   ]
  },
  {
   "cell_type": "code",
   "execution_count": 93,
   "metadata": {
    "colab": {},
    "colab_type": "code",
    "id": "7IosUXzaN0t5",
    "scrolled": false
   },
   "outputs": [],
   "source": [
    "comet = pd.read_csv('comet.csv')"
   ]
  },
  {
   "cell_type": "markdown",
   "metadata": {
    "colab_type": "text",
    "id": "6mIhFuJFN0uD"
   },
   "source": [
    "Загружаем положения звезд по пути кометы."
   ]
  },
  {
   "cell_type": "code",
   "execution_count": 94,
   "metadata": {
    "colab": {},
    "colab_type": "code",
    "id": "jDPDSVvxN0uE"
   },
   "outputs": [],
   "source": [
    "stars = pd.read_csv('stars.csv')"
   ]
  },
  {
   "cell_type": "markdown",
   "metadata": {
    "colab_type": "text",
    "id": "6NdvWuc-N0uJ"
   },
   "source": [
    "Теперь надо определить экваториальные координаты кометы, интерполируя значения координат звезд."
   ]
  },
  {
   "cell_type": "code",
   "execution_count": 95,
   "metadata": {
    "colab": {},
    "colab_type": "code",
    "id": "h6PA0SIyN0uS"
   },
   "outputs": [],
   "source": [
    "def hours2radians(RA):\n",
    "    (hh, mm, ss) = RA.split(':')\n",
    "    return 2*math.pi*(float(hh) + float(mm)/60. + float(ss)/3600.)/24."
   ]
  },
  {
   "cell_type": "code",
   "execution_count": 96,
   "metadata": {},
   "outputs": [],
   "source": [
    "def grads2radians(RA):\n",
    "    (hh, mm, ss) = RA.split(':')\n",
    "    return math.pi*(float(hh) + float(mm)/60. + float(ss)/3600.)/180."
   ]
  },
  {
   "cell_type": "code",
   "execution_count": 97,
   "metadata": {},
   "outputs": [],
   "source": [
    "def load_stars(m=6):\n",
    "    df = pd.read_csv('stars.csv')\n",
    "    data = df.values[:, :4]\n",
    "    n = len(df)\n",
    "    m = 6\n",
    "    for i in range(n):\n",
    "        data[i][0] = float(data[i][0])\n",
    "        data[i][1] = float(data[i][1])\n",
    "        data[i][2] = grads2radians(data[i][2])\n",
    "        data[i][3] = hours2radians(data[i][3])\n",
    "    mean = data.mean(axis=0)\n",
    "    data -= mean\n",
    "    std = np.zeros(4)\n",
    "    for i in range(n):\n",
    "        for j in range(4):\n",
    "            std[j] += pow(data[i][j], 2)\n",
    "    std = np.sqrt(std/n)\n",
    "    data /= std   \n",
    "    x_train = data[:n-m, :2]\n",
    "    y_train = data[:n-m, 2:4]\n",
    "    x_test = data[n-m:, :2]\n",
    "    y_test = data[n-m:, 2:4]\n",
    "    return (x_train, y_train), (x_test, y_test), (mean, std)"
   ]
  },
  {
   "cell_type": "code",
   "execution_count": 98,
   "metadata": {},
   "outputs": [],
   "source": [
    "def load_comet(mean, std):\n",
    "    df = pd.read_csv('comet.csv')\n",
    "    data = df.values[:, 1:3]\n",
    "    n = len(df)\n",
    "    for i in range(n):\n",
    "        data[i][0] = float(data[i][0])\n",
    "        data[i][1] = float(data[i][1])\n",
    "    data -= mean[:2]\n",
    "    data /= std[:2]   \n",
    "    return (data)"
   ]
  },
  {
   "cell_type": "code",
   "execution_count": 99,
   "metadata": {},
   "outputs": [],
   "source": [
    "(x_train, y_train), (x_test, y_test), (mean, std) = load_stars()\n",
    "x = load_comet(mean, std)"
   ]
  },
  {
   "cell_type": "code",
   "execution_count": 105,
   "metadata": {},
   "outputs": [
    {
     "name": "stdout",
     "output_type": "stream",
     "text": [
      "PrepareData v1.04 26.07.2020\n"
     ]
    }
   ],
   "source": [
    "print(\"PrepareData v1.04 26.07.2020\")"
   ]
  },
  {
   "cell_type": "code",
   "execution_count": null,
   "metadata": {},
   "outputs": [],
   "source": []
  }
 ],
 "metadata": {
  "colab": {
   "name": "Coordinates.ipynb",
   "provenance": [],
   "toc_visible": true
  },
  "kernelspec": {
   "display_name": "Python 3",
   "language": "python",
   "name": "python3"
  },
  "language_info": {
   "codemirror_mode": {
    "name": "ipython",
    "version": 3
   },
   "file_extension": ".py",
   "mimetype": "text/x-python",
   "name": "python",
   "nbconvert_exporter": "python",
   "pygments_lexer": "ipython3",
   "version": "3.7.5"
  }
 },
 "nbformat": 4,
 "nbformat_minor": 1
}
