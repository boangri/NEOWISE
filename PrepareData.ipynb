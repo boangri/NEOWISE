{
 "cells": [
  {
   "cell_type": "markdown",
   "metadata": {
    "colab_type": "text",
    "id": "7ZzomFADN0ts"
   },
   "source": [
    "# Подготовка данных для регрессионного анализа\n",
    "\n",
    "Чтение данных из CSV-файлов, пересчет в радианы, нормализация значений.\n",
    "\n",
    "Created: 23.07.2020\n",
    "\n",
    "Last updated: 24.07.2020"
   ]
  },
  {
   "cell_type": "code",
   "execution_count": 1,
   "metadata": {
    "colab": {},
    "colab_type": "code",
    "id": "AZzGvJoIN0tw"
   },
   "outputs": [],
   "source": [
    "import numpy as np\n",
    "import pandas as pd\n",
    "import math"
   ]
  },
  {
   "cell_type": "markdown",
   "metadata": {
    "colab_type": "text",
    "id": "WcKb_057N0t3"
   },
   "source": [
    "Загружаем таблицу с положениями кометы в пикселях."
   ]
  },
  {
   "cell_type": "code",
   "execution_count": 2,
   "metadata": {
    "colab": {},
    "colab_type": "code",
    "id": "7IosUXzaN0t5",
    "scrolled": false
   },
   "outputs": [],
   "source": [
    "comet = pd.read_csv('comet.csv')"
   ]
  },
  {
   "cell_type": "markdown",
   "metadata": {
    "colab_type": "text",
    "id": "6mIhFuJFN0uD"
   },
   "source": [
    "Загружаем положения звезд по пути кометы."
   ]
  },
  {
   "cell_type": "code",
   "execution_count": 3,
   "metadata": {
    "colab": {},
    "colab_type": "code",
    "id": "jDPDSVvxN0uE"
   },
   "outputs": [],
   "source": [
    "stars = pd.read_csv('stars.csv')"
   ]
  },
  {
   "cell_type": "markdown",
   "metadata": {
    "colab_type": "text",
    "id": "6NdvWuc-N0uJ"
   },
   "source": [
    "Теперь надо определить экваториальные координаты кометы, интерполируя значения координат звезд."
   ]
  },
  {
   "cell_type": "code",
   "execution_count": 4,
   "metadata": {
    "colab": {},
    "colab_type": "code",
    "id": "h6PA0SIyN0uS"
   },
   "outputs": [],
   "source": [
    "def hours2radians(RA):\n",
    "    (hh, mm, ss) = RA.split(':')\n",
    "    return 2*math.pi*(float(hh) + float(mm)/60. + float(ss)/3600.)/24."
   ]
  },
  {
   "cell_type": "code",
   "execution_count": 5,
   "metadata": {},
   "outputs": [],
   "source": [
    "def grads2radians(RA):\n",
    "    (hh, mm, ss) = RA.split(':')\n",
    "    return math.pi*(float(hh) + float(mm)/60. + float(ss)/3600.)/180."
   ]
  },
  {
   "cell_type": "code",
   "execution_count": 9,
   "metadata": {
    "colab": {},
    "colab_type": "code",
    "id": "Zip4KaaPN0vI"
   },
   "outputs": [],
   "source": [
    "data = stars.values\n",
    "n = len(stars)"
   ]
  },
  {
   "cell_type": "code",
   "execution_count": 10,
   "metadata": {
    "colab": {},
    "colab_type": "code",
    "id": "LJlSv7HiN0vN"
   },
   "outputs": [],
   "source": [
    "for i in range(n):\n",
    "    data[i][0] = float(data[i][0])\n",
    "    data[i][1] = float(data[i][1])\n",
    "    data[i][2] = grads2radians(data[i][2])\n",
    "    data[i][3] = hours2radians(data[i][3])\n",
    "    data[i][4] = 0."
   ]
  },
  {
   "cell_type": "code",
   "execution_count": 11,
   "metadata": {
    "colab": {},
    "colab_type": "code",
    "id": "MVd5HSdRN0vR"
   },
   "outputs": [],
   "source": [
    "mean = data.mean(axis=0)\n",
    "data -= mean"
   ]
  },
  {
   "cell_type": "code",
   "execution_count": 12,
   "metadata": {
    "colab": {},
    "colab_type": "code",
    "id": "G2YboNvnN0vZ"
   },
   "outputs": [],
   "source": [
    "std = np.ones(5)\n",
    "for i in range(n):\n",
    "    for j in range(4):\n",
    "        std[j] += pow(data[i][j], 2)\n",
    "std = np.sqrt(std/n)\n",
    "data /= std\n",
    "    "
   ]
  },
  {
   "cell_type": "code",
   "execution_count": 13,
   "metadata": {
    "colab": {},
    "colab_type": "code",
    "id": "dEIEKrtcOds2"
   },
   "outputs": [],
   "source": [
    "np.random.shuffle(data)"
   ]
  },
  {
   "cell_type": "code",
   "execution_count": 10,
   "metadata": {
    "colab": {},
    "colab_type": "code",
    "id": "clph8Q0BRSxh"
   },
   "outputs": [],
   "source": [
    "m = 14\n",
    "x_train = data[:m, :2]\n",
    "y_train = data[:m, 2:4]\n",
    "x_test = data[m:, :2]\n",
    "y_test = data[m:, 2:4]"
   ]
  },
  {
   "cell_type": "code",
   "execution_count": 11,
   "metadata": {
    "colab": {},
    "colab_type": "code",
    "id": "VIPGrusYtwC7"
   },
   "outputs": [],
   "source": [
    "# (x_train, y_train), (x_test, y_test) = boston_housing.load_data()"
   ]
  },
  {
   "cell_type": "code",
   "execution_count": 12,
   "metadata": {},
   "outputs": [],
   "source": [
    "def load_data():\n",
    "    return (x_train, y_train), (x_test, y_test)"
   ]
  },
  {
   "cell_type": "code",
   "execution_count": 13,
   "metadata": {},
   "outputs": [
    {
     "name": "stdout",
     "output_type": "stream",
     "text": [
      "PrepareData v1.01 24.07.2020\n"
     ]
    }
   ],
   "source": [
    "print(\"PrepareData v1.01 24.07.2020\")"
   ]
  },
  {
   "cell_type": "code",
   "execution_count": null,
   "metadata": {},
   "outputs": [],
   "source": []
  }
 ],
 "metadata": {
  "colab": {
   "name": "Coordinates.ipynb",
   "provenance": [],
   "toc_visible": true
  },
  "kernelspec": {
   "display_name": "Python 3",
   "language": "python",
   "name": "python3"
  },
  "language_info": {
   "codemirror_mode": {
    "name": "ipython",
    "version": 3
   },
   "file_extension": ".py",
   "mimetype": "text/x-python",
   "name": "python",
   "nbconvert_exporter": "python",
   "pygments_lexer": "ipython3",
   "version": "3.7.5"
  }
 },
 "nbformat": 4,
 "nbformat_minor": 1
}
