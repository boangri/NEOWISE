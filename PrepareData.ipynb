{
 "cells": [
  {
   "cell_type": "markdown",
   "metadata": {
    "colab_type": "text",
    "id": "7ZzomFADN0ts"
   },
   "source": [
    "# Подготовка данных для регрессионного анализа\n",
    "\n",
    "Чтение данных из CSV-файлов, пересчет в радианы, нормализация значений.\n",
    "\n",
    "Created: 23.07.2020\n",
    "\n",
    "Last updated: 15.08.2020"
   ]
  },
  {
   "cell_type": "code",
   "execution_count": 23,
   "metadata": {
    "colab": {},
    "colab_type": "code",
    "id": "AZzGvJoIN0tw"
   },
   "outputs": [],
   "source": [
    "import numpy as np\n",
    "import pandas as pd\n",
    "import math\n",
    "from sklearn import preprocessing # Пакет предварительной обработки данных\n",
    "from sklearn.preprocessing import StandardScaler"
   ]
  },
  {
   "cell_type": "code",
   "execution_count": 4,
   "metadata": {
    "colab": {},
    "colab_type": "code",
    "id": "h6PA0SIyN0uS"
   },
   "outputs": [],
   "source": [
    "def hours2radians(RA):\n",
    "    (hh, mm, ss) = RA.split(':')\n",
    "    return 2*math.pi*(float(hh) + float(mm)/60. + float(ss)/3600.)/24."
   ]
  },
  {
   "cell_type": "code",
   "execution_count": 5,
   "metadata": {},
   "outputs": [],
   "source": [
    "def grads2radians(RA):\n",
    "    (hh, mm, ss) = RA.split(':')\n",
    "    return math.pi*(float(hh) + float(mm)/60. + float(ss)/3600.)/180."
   ]
  },
  {
   "cell_type": "code",
   "execution_count": 43,
   "metadata": {},
   "outputs": [],
   "source": [
    "def load_stars(m=6):\n",
    "    df = pd.read_csv('stars.csv')\n",
    "    data = df.values[:, :4]\n",
    "    n = len(df)\n",
    "    m = 6\n",
    "    for i in range(n):\n",
    "        data[i][0] = float(data[i][0])\n",
    "        data[i][1] = float(data[i][1])\n",
    "        data[i][2] = grads2radians(data[i][2])\n",
    "        data[i][3] = hours2radians(data[i][3])\n",
    "    scaler = StandardScaler()\n",
    "    scaler.fit(data)\n",
    "    data_s = scaler.fit_transform(data)\n",
    "    x_train = data_s[:n-m, :2]\n",
    "    y_train = data_s[:n-m, 2:4]\n",
    "    x_test = data_s[n-m:, :2]\n",
    "    y_test = data_s[n-m:, 2:4]\n",
    "    return (x_train, y_train), (x_test, y_test), (scaler.mean_, pow(scaler.var_, 0.5))"
   ]
  },
  {
   "cell_type": "code",
   "execution_count": 50,
   "metadata": {},
   "outputs": [],
   "source": [
    "def load_comet(mean, std):\n",
    "    df = pd.read_csv('comet.csv')\n",
    "    data = df.values[:, 1:3]\n",
    "    n = len(df)\n",
    "    for i in range(n):\n",
    "        data[i][0] = float(data[i][0])\n",
    "        data[i][1] = float(data[i][1])\n",
    "    data -= mean[:2]\n",
    "    data /= std[:2]   \n",
    "    return data"
   ]
  },
  {
   "cell_type": "code",
   "execution_count": 62,
   "metadata": {},
   "outputs": [
    {
     "name": "stdout",
     "output_type": "stream",
     "text": [
      "PrepareData v1.07 15.08.2020\n"
     ]
    }
   ],
   "source": [
    "print(\"PrepareData v1.07 15.08.2020\")"
   ]
  },
  {
   "cell_type": "code",
   "execution_count": null,
   "metadata": {},
   "outputs": [],
   "source": []
  }
 ],
 "metadata": {
  "colab": {
   "name": "Coordinates.ipynb",
   "provenance": [],
   "toc_visible": true
  },
  "kernelspec": {
   "display_name": "Python 3",
   "language": "python",
   "name": "python3"
  },
  "language_info": {
   "codemirror_mode": {
    "name": "ipython",
    "version": 3
   },
   "file_extension": ".py",
   "mimetype": "text/x-python",
   "name": "python",
   "nbconvert_exporter": "python",
   "pygments_lexer": "ipython3",
   "version": "3.7.7"
  }
 },
 "nbformat": 4,
 "nbformat_minor": 1
}
