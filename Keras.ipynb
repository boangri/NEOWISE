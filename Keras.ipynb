{
 "cells": [
  {
   "cell_type": "markdown",
   "metadata": {},
   "source": [
    "# Вычисление экваториальных координат кометы на Keras\n",
    "\n",
    "Для нахождения регресcии между пиксельными координатами и экваториальными используется\n",
    "модель на keras. https://keras.io\n",
    "\n",
    "Данные для модели подготавливаются в модуле PrepareData"
   ]
  },
  {
   "cell_type": "code",
   "execution_count": 1,
   "metadata": {},
   "outputs": [
    {
     "name": "stdout",
     "output_type": "stream",
     "text": [
      "importing Jupyter notebook from PrepareData.ipynb\n",
      "PrepareData v1.07 15.08.2020\n"
     ]
    }
   ],
   "source": [
    "import math\n",
    "import numpy as np\n",
    "import pandas as pd\n",
    "from matplotlib import pyplot as plt\n",
    "%matplotlib inline\n",
    "import NotebookLoader\n",
    "from PrepareData import load_stars, load_comet"
   ]
  },
  {
   "cell_type": "code",
   "execution_count": 2,
   "metadata": {},
   "outputs": [],
   "source": [
    "from tensorflow.keras.models import Sequential \n",
    "from tensorflow.keras.layers import Dense "
   ]
  },
  {
   "cell_type": "code",
   "execution_count": 3,
   "metadata": {},
   "outputs": [],
   "source": [
    "(x_train, y_train), (x_test, y_test), (mean, std) = load_stars()"
   ]
  },
  {
   "cell_type": "code",
   "execution_count": 56,
   "metadata": {},
   "outputs": [],
   "source": [
    "# Функция для построения графиков истории обучения\n",
    "def visualizeUlaHistory(history, test_loss, figsize=(8,5)):\n",
    "    loss = history.history['loss']\n",
    "    val_loss = history.history['val_loss']\n",
    "    t_loss = [test_loss[0]]*len(loss)\n",
    "    plt.figure(figsize=figsize)\n",
    "    plt.plot(loss, label='Среднекв. ошибка на обучающем наборе')\n",
    "    plt.plot(val_loss, label='Среднекв. ошибка на проверочном наборе')\n",
    "    plt.plot(t_loss, label='Среднекв. ошибка на тестовом наборе')\n",
    "    plt.xlabel('Эпоха обучения')\n",
    "    plt.ylabel('Среднекв. ошибка')\n",
    "    plt.title('Среднекв. ошибка')\n",
    "    plt.ylim(0, .1)\n",
    "    plt.legend()\n",
    "    plt.show()"
   ]
  },
  {
   "cell_type": "code",
   "execution_count": 53,
   "metadata": {},
   "outputs": [
    {
     "name": "stdout",
     "output_type": "stream",
     "text": [
      "Model: \"sequential_2\"\n",
      "_________________________________________________________________\n",
      "Layer (type)                 Output Shape              Param #   \n",
      "=================================================================\n",
      "dense_4 (Dense)              (None, 200)               600       \n",
      "_________________________________________________________________\n",
      "dense_5 (Dense)              (None, 2)                 402       \n",
      "=================================================================\n",
      "Total params: 1,002\n",
      "Trainable params: 1,002\n",
      "Non-trainable params: 0\n",
      "_________________________________________________________________\n"
     ]
    }
   ],
   "source": [
    "model = Sequential()\n",
    "model.add(Dense(200, activation='relu', input_shape=(x_train.shape[1],)))\n",
    "model.add(Dense(2))\n",
    "model.compile(optimizer='adam', loss='mse', metrics=['mae'])\n",
    "model.summary()"
   ]
  },
  {
   "cell_type": "code",
   "execution_count": 54,
   "metadata": {
    "scrolled": true
   },
   "outputs": [
    {
     "name": "stdout",
     "output_type": "stream",
     "text": [
      "Train on 27 samples, validate on 3 samples\n",
      "Epoch 1/100\n",
      "27/27 [==============================] - 1s 23ms/sample - loss: 0.9358 - mae: 0.8310 - val_loss: 0.5399 - val_mae: 0.5237\n",
      "Epoch 2/100\n",
      "27/27 [==============================] - 0s 2ms/sample - loss: 0.5579 - mae: 0.6329 - val_loss: 0.3132 - val_mae: 0.4296\n",
      "Epoch 3/100\n",
      "27/27 [==============================] - 0s 2ms/sample - loss: 0.3114 - mae: 0.4645 - val_loss: 0.1978 - val_mae: 0.3929\n",
      "Epoch 4/100\n",
      "27/27 [==============================] - 0s 2ms/sample - loss: 0.1927 - mae: 0.3479 - val_loss: 0.1563 - val_mae: 0.3520\n",
      "Epoch 5/100\n",
      "27/27 [==============================] - 0s 2ms/sample - loss: 0.1396 - mae: 0.2817 - val_loss: 0.1344 - val_mae: 0.2928\n",
      "Epoch 6/100\n",
      "27/27 [==============================] - 0s 2ms/sample - loss: 0.1089 - mae: 0.2342 - val_loss: 0.1421 - val_mae: 0.2778\n",
      "Epoch 7/100\n",
      "27/27 [==============================] - 0s 3ms/sample - loss: 0.0919 - mae: 0.2047 - val_loss: 0.1378 - val_mae: 0.2580\n",
      "Epoch 8/100\n",
      "27/27 [==============================] - 0s 3ms/sample - loss: 0.0786 - mae: 0.1849 - val_loss: 0.1154 - val_mae: 0.2288\n",
      "Epoch 9/100\n",
      "27/27 [==============================] - 0s 3ms/sample - loss: 0.0672 - mae: 0.1742 - val_loss: 0.0838 - val_mae: 0.1949\n",
      "Epoch 10/100\n",
      "27/27 [==============================] - 0s 3ms/sample - loss: 0.0618 - mae: 0.1640 - val_loss: 0.0716 - val_mae: 0.1757\n",
      "Epoch 11/100\n",
      "27/27 [==============================] - 0s 2ms/sample - loss: 0.0535 - mae: 0.1533 - val_loss: 0.0659 - val_mae: 0.1696\n",
      "Epoch 12/100\n",
      "27/27 [==============================] - 0s 2ms/sample - loss: 0.0478 - mae: 0.1458 - val_loss: 0.0598 - val_mae: 0.1600\n",
      "Epoch 13/100\n",
      "27/27 [==============================] - 0s 2ms/sample - loss: 0.0455 - mae: 0.1343 - val_loss: 0.0697 - val_mae: 0.1699\n",
      "Epoch 14/100\n",
      "27/27 [==============================] - 0s 3ms/sample - loss: 0.0429 - mae: 0.1350 - val_loss: 0.0364 - val_mae: 0.1158\n",
      "Epoch 15/100\n",
      "27/27 [==============================] - 0s 2ms/sample - loss: 0.0368 - mae: 0.1288 - val_loss: 0.0415 - val_mae: 0.1196\n",
      "Epoch 16/100\n",
      "27/27 [==============================] - 0s 2ms/sample - loss: 0.0329 - mae: 0.1210 - val_loss: 0.0359 - val_mae: 0.1097\n",
      "Epoch 17/100\n",
      "27/27 [==============================] - 0s 2ms/sample - loss: 0.0303 - mae: 0.1133 - val_loss: 0.0352 - val_mae: 0.1109\n",
      "Epoch 18/100\n",
      "27/27 [==============================] - 0s 2ms/sample - loss: 0.0292 - mae: 0.1150 - val_loss: 0.0308 - val_mae: 0.1017\n",
      "Epoch 19/100\n",
      "27/27 [==============================] - 0s 2ms/sample - loss: 0.0262 - mae: 0.1047 - val_loss: 0.0280 - val_mae: 0.0967\n",
      "Epoch 20/100\n",
      "27/27 [==============================] - 0s 2ms/sample - loss: 0.0248 - mae: 0.1058 - val_loss: 0.0229 - val_mae: 0.0877\n",
      "Epoch 21/100\n",
      "27/27 [==============================] - 0s 2ms/sample - loss: 0.0218 - mae: 0.0978 - val_loss: 0.0223 - val_mae: 0.0887\n",
      "Epoch 22/100\n",
      "27/27 [==============================] - 0s 3ms/sample - loss: 0.0200 - mae: 0.0951 - val_loss: 0.0193 - val_mae: 0.0837\n",
      "Epoch 23/100\n",
      "27/27 [==============================] - 0s 3ms/sample - loss: 0.0187 - mae: 0.0924 - val_loss: 0.0201 - val_mae: 0.0827\n",
      "Epoch 24/100\n",
      "27/27 [==============================] - 0s 3ms/sample - loss: 0.0182 - mae: 0.0889 - val_loss: 0.0165 - val_mae: 0.0768\n",
      "Epoch 25/100\n",
      "27/27 [==============================] - 0s 2ms/sample - loss: 0.0157 - mae: 0.0796 - val_loss: 0.0166 - val_mae: 0.0794\n",
      "Epoch 26/100\n",
      "27/27 [==============================] - 0s 2ms/sample - loss: 0.0150 - mae: 0.0812 - val_loss: 0.0105 - val_mae: 0.0610\n",
      "Epoch 27/100\n",
      "27/27 [==============================] - 0s 2ms/sample - loss: 0.0137 - mae: 0.0763 - val_loss: 0.0134 - val_mae: 0.0681\n",
      "Epoch 28/100\n",
      "27/27 [==============================] - 0s 2ms/sample - loss: 0.0141 - mae: 0.0793 - val_loss: 0.0087 - val_mae: 0.0627\n",
      "Epoch 29/100\n",
      "27/27 [==============================] - 0s 2ms/sample - loss: 0.0142 - mae: 0.0714 - val_loss: 0.0234 - val_mae: 0.0863\n",
      "Epoch 30/100\n",
      "27/27 [==============================] - 0s 3ms/sample - loss: 0.0103 - mae: 0.0631 - val_loss: 0.0083 - val_mae: 0.0613\n",
      "Epoch 31/100\n",
      "27/27 [==============================] - 0s 2ms/sample - loss: 0.0114 - mae: 0.0712 - val_loss: 0.0081 - val_mae: 0.0612\n",
      "Epoch 32/100\n",
      "27/27 [==============================] - 0s 2ms/sample - loss: 0.0105 - mae: 0.0691 - val_loss: 0.0068 - val_mae: 0.0499\n",
      "Epoch 33/100\n",
      "27/27 [==============================] - 0s 3ms/sample - loss: 0.0095 - mae: 0.0662 - val_loss: 0.0124 - val_mae: 0.0649\n",
      "Epoch 34/100\n",
      "27/27 [==============================] - 0s 2ms/sample - loss: 0.0106 - mae: 0.0678 - val_loss: 0.0067 - val_mae: 0.0539\n",
      "Epoch 35/100\n",
      "27/27 [==============================] - 0s 2ms/sample - loss: 0.0099 - mae: 0.0601 - val_loss: 0.0152 - val_mae: 0.0740\n",
      "Epoch 36/100\n",
      "27/27 [==============================] - 0s 3ms/sample - loss: 0.0099 - mae: 0.0670 - val_loss: 0.0049 - val_mae: 0.0509\n",
      "Epoch 37/100\n",
      "27/27 [==============================] - 0s 3ms/sample - loss: 0.0080 - mae: 0.0580 - val_loss: 0.0063 - val_mae: 0.0545\n",
      "Epoch 38/100\n",
      "27/27 [==============================] - 0s 2ms/sample - loss: 0.0088 - mae: 0.0647 - val_loss: 0.0059 - val_mae: 0.0566\n",
      "Epoch 39/100\n",
      "27/27 [==============================] - 0s 2ms/sample - loss: 0.0076 - mae: 0.0575 - val_loss: 0.0050 - val_mae: 0.0550\n",
      "Epoch 40/100\n",
      "27/27 [==============================] - 0s 2ms/sample - loss: 0.0077 - mae: 0.0618 - val_loss: 0.0059 - val_mae: 0.0497\n",
      "Epoch 41/100\n",
      "27/27 [==============================] - 0s 3ms/sample - loss: 0.0075 - mae: 0.0568 - val_loss: 0.0053 - val_mae: 0.0553\n",
      "Epoch 42/100\n",
      "27/27 [==============================] - 0s 3ms/sample - loss: 0.0071 - mae: 0.0591 - val_loss: 0.0048 - val_mae: 0.0469\n",
      "Epoch 43/100\n",
      "27/27 [==============================] - 0s 3ms/sample - loss: 0.0069 - mae: 0.0526 - val_loss: 0.0048 - val_mae: 0.0519\n",
      "Epoch 44/100\n",
      "27/27 [==============================] - 0s 3ms/sample - loss: 0.0066 - mae: 0.0558 - val_loss: 0.0051 - val_mae: 0.0494\n",
      "Epoch 45/100\n",
      "27/27 [==============================] - 0s 3ms/sample - loss: 0.0065 - mae: 0.0526 - val_loss: 0.0046 - val_mae: 0.0477\n",
      "Epoch 46/100\n",
      "27/27 [==============================] - 0s 2ms/sample - loss: 0.0068 - mae: 0.0570 - val_loss: 0.0041 - val_mae: 0.0460\n",
      "Epoch 47/100\n",
      "27/27 [==============================] - 0s 2ms/sample - loss: 0.0062 - mae: 0.0525 - val_loss: 0.0042 - val_mae: 0.0490\n",
      "Epoch 48/100\n",
      "27/27 [==============================] - 0s 2ms/sample - loss: 0.0058 - mae: 0.0503 - val_loss: 0.0039 - val_mae: 0.0436\n",
      "Epoch 49/100\n",
      "27/27 [==============================] - 0s 3ms/sample - loss: 0.0056 - mae: 0.0504 - val_loss: 0.0035 - val_mae: 0.0438\n",
      "Epoch 50/100\n",
      "27/27 [==============================] - 0s 3ms/sample - loss: 0.0058 - mae: 0.0533 - val_loss: 0.0034 - val_mae: 0.0440\n",
      "Epoch 51/100\n",
      "27/27 [==============================] - 0s 3ms/sample - loss: 0.0056 - mae: 0.0504 - val_loss: 0.0035 - val_mae: 0.0423\n",
      "Epoch 52/100\n",
      "27/27 [==============================] - 0s 2ms/sample - loss: 0.0053 - mae: 0.0464 - val_loss: 0.0039 - val_mae: 0.0464\n",
      "Epoch 53/100\n",
      "27/27 [==============================] - 0s 3ms/sample - loss: 0.0050 - mae: 0.0471 - val_loss: 0.0031 - val_mae: 0.0435\n",
      "Epoch 54/100\n",
      "27/27 [==============================] - 0s 3ms/sample - loss: 0.0047 - mae: 0.0493 - val_loss: 0.0030 - val_mae: 0.0392\n",
      "Epoch 55/100\n",
      "27/27 [==============================] - 0s 2ms/sample - loss: 0.0047 - mae: 0.0438 - val_loss: 0.0030 - val_mae: 0.0428\n",
      "Epoch 56/100\n",
      "27/27 [==============================] - 0s 2ms/sample - loss: 0.0047 - mae: 0.0492 - val_loss: 0.0024 - val_mae: 0.0368\n",
      "Epoch 57/100\n",
      "27/27 [==============================] - 0s 3ms/sample - loss: 0.0044 - mae: 0.0459 - val_loss: 0.0029 - val_mae: 0.0390\n",
      "Epoch 58/100\n",
      "27/27 [==============================] - 0s 3ms/sample - loss: 0.0043 - mae: 0.0456 - val_loss: 0.0027 - val_mae: 0.0400\n",
      "Epoch 59/100\n",
      "27/27 [==============================] - 0s 3ms/sample - loss: 0.0043 - mae: 0.0433 - val_loss: 0.0027 - val_mae: 0.0391\n",
      "Epoch 60/100\n",
      "27/27 [==============================] - 0s 2ms/sample - loss: 0.0042 - mae: 0.0417 - val_loss: 0.0027 - val_mae: 0.0428\n",
      "Epoch 61/100\n",
      "27/27 [==============================] - 0s 2ms/sample - loss: 0.0039 - mae: 0.0430 - val_loss: 0.0023 - val_mae: 0.0382\n"
     ]
    },
    {
     "name": "stdout",
     "output_type": "stream",
     "text": [
      "Epoch 62/100\n",
      "27/27 [==============================] - 0s 2ms/sample - loss: 0.0042 - mae: 0.0449 - val_loss: 0.0021 - val_mae: 0.0360\n",
      "Epoch 63/100\n",
      "27/27 [==============================] - 0s 2ms/sample - loss: 0.0040 - mae: 0.0399 - val_loss: 0.0020 - val_mae: 0.0344\n",
      "Epoch 64/100\n",
      "27/27 [==============================] - 0s 2ms/sample - loss: 0.0037 - mae: 0.0415 - val_loss: 0.0020 - val_mae: 0.0340\n",
      "Epoch 65/100\n",
      "27/27 [==============================] - 0s 2ms/sample - loss: 0.0034 - mae: 0.0396 - val_loss: 0.0021 - val_mae: 0.0338\n",
      "Epoch 66/100\n",
      "27/27 [==============================] - 0s 2ms/sample - loss: 0.0038 - mae: 0.0383 - val_loss: 0.0024 - val_mae: 0.0341\n",
      "Epoch 67/100\n",
      "27/27 [==============================] - 0s 2ms/sample - loss: 0.0036 - mae: 0.0399 - val_loss: 0.0019 - val_mae: 0.0342\n",
      "Epoch 68/100\n",
      "27/27 [==============================] - 0s 2ms/sample - loss: 0.0032 - mae: 0.0358 - val_loss: 0.0017 - val_mae: 0.0318\n",
      "Epoch 69/100\n",
      "27/27 [==============================] - 0s 2ms/sample - loss: 0.0035 - mae: 0.0379 - val_loss: 0.0020 - val_mae: 0.0339\n",
      "Epoch 70/100\n",
      "27/27 [==============================] - 0s 2ms/sample - loss: 0.0033 - mae: 0.0393 - val_loss: 0.0013 - val_mae: 0.0298\n",
      "Epoch 71/100\n",
      "27/27 [==============================] - 0s 2ms/sample - loss: 0.0031 - mae: 0.0349 - val_loss: 0.0014 - val_mae: 0.0290\n",
      "Epoch 72/100\n",
      "27/27 [==============================] - 0s 2ms/sample - loss: 0.0030 - mae: 0.0397 - val_loss: 0.0016 - val_mae: 0.0301\n",
      "Epoch 73/100\n",
      "27/27 [==============================] - 0s 2ms/sample - loss: 0.0031 - mae: 0.0366 - val_loss: 0.0017 - val_mae: 0.0311\n",
      "Epoch 74/100\n",
      "27/27 [==============================] - 0s 2ms/sample - loss: 0.0027 - mae: 0.0339 - val_loss: 0.0012 - val_mae: 0.0269\n",
      "Epoch 75/100\n",
      "27/27 [==============================] - 0s 2ms/sample - loss: 0.0023 - mae: 0.0336 - val_loss: 0.0017 - val_mae: 0.0311\n",
      "Epoch 76/100\n",
      "27/27 [==============================] - 0s 2ms/sample - loss: 0.0028 - mae: 0.0338 - val_loss: 0.0012 - val_mae: 0.0288\n",
      "Epoch 77/100\n",
      "27/27 [==============================] - 0s 2ms/sample - loss: 0.0025 - mae: 0.0329 - val_loss: 0.0012 - val_mae: 0.0286\n",
      "Epoch 78/100\n",
      "27/27 [==============================] - 0s 2ms/sample - loss: 0.0020 - mae: 0.0303 - val_loss: 0.0012 - val_mae: 0.0294\n",
      "Epoch 79/100\n",
      "27/27 [==============================] - 0s 2ms/sample - loss: 0.0022 - mae: 0.0325 - val_loss: 0.0010 - val_mae: 0.0251\n",
      "Epoch 80/100\n",
      "27/27 [==============================] - 0s 2ms/sample - loss: 0.0021 - mae: 0.0297 - val_loss: 9.7951e-04 - val_mae: 0.0238\n",
      "Epoch 81/100\n",
      "27/27 [==============================] - 0s 2ms/sample - loss: 0.0024 - mae: 0.0330 - val_loss: 9.0103e-04 - val_mae: 0.0245\n",
      "Epoch 82/100\n",
      "27/27 [==============================] - 0s 3ms/sample - loss: 0.0019 - mae: 0.0289 - val_loss: 9.7511e-04 - val_mae: 0.0238\n",
      "Epoch 83/100\n",
      "27/27 [==============================] - 0s 3ms/sample - loss: 0.0019 - mae: 0.0305 - val_loss: 0.0012 - val_mae: 0.0254\n",
      "Epoch 84/100\n",
      "27/27 [==============================] - 0s 3ms/sample - loss: 0.0023 - mae: 0.0322 - val_loss: 0.0011 - val_mae: 0.0239\n",
      "Epoch 85/100\n",
      "27/27 [==============================] - 0s 3ms/sample - loss: 0.0017 - mae: 0.0277 - val_loss: 0.0015 - val_mae: 0.0319\n",
      "Epoch 86/100\n",
      "27/27 [==============================] - 0s 3ms/sample - loss: 0.0019 - mae: 0.0283 - val_loss: 0.0012 - val_mae: 0.0237\n",
      "Epoch 87/100\n",
      "27/27 [==============================] - 0s 3ms/sample - loss: 0.0015 - mae: 0.0282 - val_loss: 7.6576e-04 - val_mae: 0.0249\n",
      "Epoch 88/100\n",
      "27/27 [==============================] - 0s 3ms/sample - loss: 0.0014 - mae: 0.0242 - val_loss: 0.0017 - val_mae: 0.0343\n",
      "Epoch 89/100\n",
      "27/27 [==============================] - 0s 3ms/sample - loss: 0.0016 - mae: 0.0286 - val_loss: 4.1699e-04 - val_mae: 0.0178\n",
      "Epoch 90/100\n",
      "27/27 [==============================] - 0s 3ms/sample - loss: 0.0019 - mae: 0.0291 - val_loss: 8.3842e-04 - val_mae: 0.0192\n",
      "Epoch 91/100\n",
      "27/27 [==============================] - 0s 4ms/sample - loss: 0.0014 - mae: 0.0268 - val_loss: 0.0014 - val_mae: 0.0315\n",
      "Epoch 92/100\n",
      "27/27 [==============================] - 0s 3ms/sample - loss: 0.0012 - mae: 0.0242 - val_loss: 4.4074e-04 - val_mae: 0.0154\n",
      "Epoch 93/100\n",
      "27/27 [==============================] - 0s 3ms/sample - loss: 0.0015 - mae: 0.0256 - val_loss: 6.2340e-04 - val_mae: 0.0178\n",
      "Epoch 94/100\n",
      "27/27 [==============================] - 0s 3ms/sample - loss: 0.0011 - mae: 0.0222 - val_loss: 5.5034e-04 - val_mae: 0.0204\n",
      "Epoch 95/100\n",
      "27/27 [==============================] - 0s 3ms/sample - loss: 0.0018 - mae: 0.0289 - val_loss: 3.9424e-04 - val_mae: 0.0145\n",
      "Epoch 96/100\n",
      "27/27 [==============================] - 0s 3ms/sample - loss: 0.0013 - mae: 0.0259 - val_loss: 7.5055e-04 - val_mae: 0.0243\n",
      "Epoch 97/100\n",
      "27/27 [==============================] - 0s 3ms/sample - loss: 9.1011e-04 - mae: 0.0212 - val_loss: 3.5527e-04 - val_mae: 0.0138\n",
      "Epoch 98/100\n",
      "27/27 [==============================] - 0s 3ms/sample - loss: 9.3978e-04 - mae: 0.0220 - val_loss: 9.5584e-04 - val_mae: 0.0247\n",
      "Epoch 99/100\n",
      "27/27 [==============================] - 0s 3ms/sample - loss: 8.3731e-04 - mae: 0.0211 - val_loss: 5.0883e-04 - val_mae: 0.0152\n",
      "Epoch 100/100\n",
      "27/27 [==============================] - 0s 3ms/sample - loss: 0.0011 - mae: 0.0226 - val_loss: 0.0010 - val_mae: 0.0271\n"
     ]
    }
   ],
   "source": [
    "history = model.fit(x_train, y_train, epochs=100, batch_size=1, verbose=1, validation_split=0.1)"
   ]
  },
  {
   "cell_type": "code",
   "execution_count": 57,
   "metadata": {},
   "outputs": [
    {
     "name": "stdout",
     "output_type": "stream",
     "text": [
      "6/6 [==============================] - 0s 667us/sample - loss: 0.0011 - mae: 0.0224\n",
      "[0.0011185337789356709, 0.022390798]\n",
      "Средняя квад. ошибка на тестовых данных: 0.0011\n"
     ]
    },
    {
     "data": {
      "image/png": "[encoded data removed]",
      "text/plain": [
       "<Figure size 576x360 with 1 Axes>"
      ]
     },
     "metadata": {
      "needs_background": "light"
     },
     "output_type": "display_data"
    }
   ],
   "source": [
    "# Оценим результаты обучения:\n",
    "scores = model.evaluate(x_test, y_test, verbose=1)\n",
    "print(scores)\n",
    "test_loss = scores\n",
    "print(\"Средняя квад. ошибка на тестовых данных: %.4f\" % test_loss[0])\n",
    "visualizeUlaHistory(history, test_loss)"
   ]
  },
  {
   "cell_type": "code",
   "execution_count": 58,
   "metadata": {},
   "outputs": [
    {
     "data": {
      "text/plain": [
       "array([5.56082752e+02, 1.47149227e+02, 1.50259970e-01, 5.88907974e-01])"
      ]
     },
     "execution_count": 58,
     "metadata": {},
     "output_type": "execute_result"
    }
   ],
   "source": [
    "std"
   ]
  },
  {
   "cell_type": "code",
   "execution_count": 59,
   "metadata": {},
   "outputs": [],
   "source": [
    "x_comet = load_comet(mean, std)"
   ]
  },
  {
   "cell_type": "code",
   "execution_count": 60,
   "metadata": {},
   "outputs": [
    {
     "data": {
      "text/plain": [
       "array([[ 1.4863396 ,  0.7490506 ],\n",
       "       [ 1.4485754 ,  0.5859509 ],\n",
       "       [ 1.4072146 ,  0.41605535],\n",
       "       [ 1.360459  ,  0.26654726],\n",
       "       [ 1.3083085 ,  0.12383498],\n",
       "       [ 1.250763  , -0.01887728],\n",
       "       [ 1.1878228 , -0.1479979 ],\n",
       "       [ 1.1176894 , -0.25673106],\n",
       "       [ 1.042161  , -0.3586684 ],\n",
       "       [ 0.9630361 , -0.4470141 ],\n",
       "       [ 0.87312144, -0.528564  ],\n",
       "       [ 0.7814085 , -0.5897263 ],\n",
       "       [ 0.68070406, -0.6440929 ],\n",
       "       [ 0.5728064 , -0.68486786],\n",
       "       [ 0.46131223, -0.7052553 ],\n",
       "       [ 0.34262487, -0.7256428 ],\n",
       "       [ 0.21854262, -0.7256428 ],\n",
       "       [ 0.09086377, -0.71205115],\n",
       "       [-0.02422701, -0.6916637 ],\n",
       "       [-0.17888024, -0.65768456],\n",
       "       [-0.31555057, -0.6101138 ],\n",
       "       [-0.45581746, -0.5625431 ],\n",
       "       [-0.594286  , -0.5013807 ],\n",
       "       [-0.7309564 , -0.43342245],\n",
       "       [-0.86762667, -0.3654642 ],\n",
       "       [-1.0024986 , -0.297506  ],\n",
       "       [-1.1319758 , -0.22954777],\n",
       "       [-1.2578564 , -0.16158955],\n",
       "       [-1.3765438 , -0.10042715],\n",
       "       [-1.4934328 , -0.04606057]], dtype=float32)"
      ]
     },
     "execution_count": 60,
     "metadata": {},
     "output_type": "execute_result"
    }
   ],
   "source": [
    "x_comet = np.array(x_comet, dtype=np.float32)\n",
    "x_comet"
   ]
  },
  {
   "cell_type": "code",
   "execution_count": 61,
   "metadata": {},
   "outputs": [],
   "source": [
    "y_comet = model.predict(x_comet)"
   ]
  },
  {
   "cell_type": "code",
   "execution_count": 62,
   "metadata": {},
   "outputs": [
    {
     "data": {
      "text/plain": [
       "array([[-1.2804321 , -1.409802  ],\n",
       "       [-1.1086161 , -1.3983371 ],\n",
       "       [-0.922116  , -1.3906773 ],\n",
       "       [-0.7304471 , -1.3756729 ],\n",
       "       [-0.5417911 , -1.3565675 ],\n",
       "       [-0.3464949 , -1.3330203 ],\n",
       "       [-0.16019341, -1.2991776 ],\n",
       "       [ 0.00821186, -1.2577488 ],\n",
       "       [ 0.1704407 , -1.2086881 ],\n",
       "       [ 0.3216894 , -1.1499093 ],\n",
       "       [ 0.47848773, -1.0843174 ],\n",
       "       [ 0.62660277, -1.0079114 ],\n",
       "       [ 0.7816067 , -0.91162324],\n",
       "       [ 0.9306424 , -0.7917329 ],\n",
       "       [ 1.0530657 , -0.65876627],\n",
       "       [ 1.141557  , -0.5068613 ],\n",
       "       [ 1.2030952 , -0.3419663 ],\n",
       "       [ 1.2311045 , -0.18181811],\n",
       "       [ 1.2314245 , -0.04724962],\n",
       "       [ 1.2013998 ,  0.12671468],\n",
       "       [ 1.1394432 ,  0.28327626],\n",
       "       [ 1.0201504 ,  0.45291245],\n",
       "       [ 0.83994144,  0.6061775 ],\n",
       "       [ 0.6207357 ,  0.7379835 ],\n",
       "       [ 0.38625854,  0.8655896 ],\n",
       "       [ 0.15078884,  0.98914033],\n",
       "       [-0.07196944,  1.0998467 ],\n",
       "       [-0.28320143,  1.2009596 ],\n",
       "       [-0.4747029 ,  1.2912823 ],\n",
       "       [-0.6507204 ,  1.3685731 ]], dtype=float32)"
      ]
     },
     "execution_count": 62,
     "metadata": {},
     "output_type": "execute_result"
    }
   ],
   "source": [
    "y_comet"
   ]
  },
  {
   "cell_type": "code",
   "execution_count": 63,
   "metadata": {},
   "outputs": [
    {
     "data": {
      "text/plain": [
       "<matplotlib.collections.PathCollection at 0x19be22feb88>"
      ]
     },
     "execution_count": 63,
     "metadata": {},
     "output_type": "execute_result"
    },
    {
     "data": {
      "image/png": "[encoded data removed]",
      "text/plain": [
       "<Figure size 432x288 with 1 Axes>"
      ]
     },
     "metadata": {
      "needs_background": "light"
     },
     "output_type": "display_data"
    }
   ],
   "source": [
    "rads = (y_comet*std[2:4] + mean[2:4])*180./math.pi\n",
    "plt.scatter(rads[:,1], rads[:,0])"
   ]
  },
  {
   "cell_type": "code",
   "execution_count": 64,
   "metadata": {},
   "outputs": [
    {
     "name": "stdout",
     "output_type": "stream",
     "text": [
      "\r",
      "6/6 [==============================] - 0s 666us/sample - loss: 0.0011 - mae: 0.0224\n"
     ]
    }
   ],
   "source": [
    "score = model.evaluate(x_test, y_test)"
   ]
  },
  {
   "cell_type": "code",
   "execution_count": 65,
   "metadata": {},
   "outputs": [
    {
     "data": {
      "text/plain": [
       "[0.0011185337789356709, 0.022390798]"
      ]
     },
     "execution_count": 65,
     "metadata": {},
     "output_type": "execute_result"
    }
   ],
   "source": [
    "score"
   ]
  },
  {
   "cell_type": "code",
   "execution_count": 66,
   "metadata": {},
   "outputs": [
    {
     "data": {
      "text/plain": [
       "array([5.56082752e+02, 1.47149227e+02, 1.50259970e-01, 5.88907974e-01])"
      ]
     },
     "execution_count": 66,
     "metadata": {},
     "output_type": "execute_result"
    }
   ],
   "source": [
    "std"
   ]
  },
  {
   "cell_type": "code",
   "execution_count": 67,
   "metadata": {},
   "outputs": [
    {
     "data": {
      "text/plain": [
       "6.255589073100561e-07"
      ]
     },
     "execution_count": 67,
     "metadata": {},
     "output_type": "execute_result"
    }
   ],
   "source": [
    "# считаем что вклад в ошибку поровну от склонения и прямого восхождения.\n",
    "D = 0.5*score[0]**2\n",
    "D"
   ]
  },
  {
   "cell_type": "code",
   "execution_count": 70,
   "metadata": {},
   "outputs": [
    {
     "data": {
      "text/plain": [
       "0.4087629384455368"
      ]
     },
     "execution_count": 70,
     "metadata": {},
     "output_type": "execute_result"
    }
   ],
   "source": [
    "# ошибка в минутах дуги по склонению\n",
    "std1 = pow(D, 0.5)*std[2]\n",
    "std1*180*60/3.14"
   ]
  },
  {
   "cell_type": "code",
   "execution_count": 72,
   "metadata": {},
   "outputs": [
    {
     "data": {
      "text/plain": [
       "1.6020484578507515"
      ]
     },
     "execution_count": 72,
     "metadata": {},
     "output_type": "execute_result"
    }
   ],
   "source": [
    "# ошибка в минутах дуги по прямому восхождению\n",
    "std2 = pow(D, 0.5)*std[3]\n",
    "std2*180*60/3.14"
   ]
  },
  {
   "cell_type": "code",
   "execution_count": null,
   "metadata": {},
   "outputs": [],
   "source": []
  }
 ],
 "metadata": {
  "kernelspec": {
   "display_name": "Python 3",
   "language": "python",
   "name": "python3"
  },
  "language_info": {
   "codemirror_mode": {
    "name": "ipython",
    "version": 3
   },
   "file_extension": ".py",
   "mimetype": "text/x-python",
   "name": "python",
   "nbconvert_exporter": "python",
   "pygments_lexer": "ipython3",
   "version": "3.7.7"
  }
 },
 "nbformat": 4,
 "nbformat_minor": 2
}
