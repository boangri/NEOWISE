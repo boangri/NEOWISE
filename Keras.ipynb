{
 "cells": [
  {
   "cell_type": "code",
   "execution_count": 1,
   "metadata": {},
   "outputs": [
    {
     "name": "stdout",
     "output_type": "stream",
     "text": [
      "importing Jupyter notebook from PrepareData.ipynb\n",
      "PrepareData v1.04 26.07.2020\n"
     ]
    }
   ],
   "source": [
    "import numpy as np\n",
    "import pandas as pd\n",
    "import NotebookLoader\n",
    "from PrepareData import load_stars, load_comet"
   ]
  },
  {
   "cell_type": "code",
   "execution_count": 2,
   "metadata": {},
   "outputs": [],
   "source": [
    "from tensorflow.keras.models import Sequential \n",
    "from tensorflow.keras.layers import Dense "
   ]
  },
  {
   "cell_type": "code",
   "execution_count": 9,
   "metadata": {},
   "outputs": [],
   "source": [
    "(x_train, y_train), (x_test, y_test), (mean, std) = load_stars()"
   ]
  },
  {
   "cell_type": "code",
   "execution_count": 13,
   "metadata": {},
   "outputs": [],
   "source": [
    "model = Sequential()\n",
    "model.add(Dense(400, activation='relu', input_shape=(x_train.shape[1],)))\n",
    "model.add(Dense(2))\n",
    "model.compile(optimizer='adam', loss='mse', metrics=['mae'])"
   ]
  },
  {
   "cell_type": "code",
   "execution_count": 14,
   "metadata": {
    "scrolled": true
   },
   "outputs": [
    {
     "name": "stdout",
     "output_type": "stream",
     "text": [
      "Train on 24 samples, validate on 6 samples\n",
      "Epoch 1/200\n",
      "24/24 [==============================] - 0s 20ms/sample - loss: 0.8868 - mean_absolute_error: 0.8185 - val_loss: 0.5064 - val_mean_absolute_error: 0.5939\n",
      "Epoch 2/200\n",
      "24/24 [==============================] - 0s 4ms/sample - loss: 0.4048 - mean_absolute_error: 0.5375 - val_loss: 0.3653 - val_mean_absolute_error: 0.5221\n",
      "Epoch 3/200\n",
      "24/24 [==============================] - 0s 6ms/sample - loss: 0.1606 - mean_absolute_error: 0.3236 - val_loss: 0.3129 - val_mean_absolute_error: 0.4146\n",
      "Epoch 4/200\n",
      "24/24 [==============================] - 0s 7ms/sample - loss: 0.0871 - mean_absolute_error: 0.2354 - val_loss: 0.3340 - val_mean_absolute_error: 0.3449\n",
      "Epoch 5/200\n",
      "24/24 [==============================] - 0s 4ms/sample - loss: 0.0672 - mean_absolute_error: 0.1959 - val_loss: 0.3318 - val_mean_absolute_error: 0.3231\n",
      "Epoch 6/200\n",
      "24/24 [==============================] - 0s 7ms/sample - loss: 0.0529 - mean_absolute_error: 0.1692 - val_loss: 0.2814 - val_mean_absolute_error: 0.2861\n",
      "Epoch 7/200\n",
      "24/24 [==============================] - 0s 4ms/sample - loss: 0.0480 - mean_absolute_error: 0.1620 - val_loss: 0.2335 - val_mean_absolute_error: 0.2582\n",
      "Epoch 8/200\n",
      "24/24 [==============================] - 0s 4ms/sample - loss: 0.0414 - mean_absolute_error: 0.1502 - val_loss: 0.2177 - val_mean_absolute_error: 0.2412\n",
      "Epoch 9/200\n",
      "24/24 [==============================] - 0s 4ms/sample - loss: 0.0386 - mean_absolute_error: 0.1433 - val_loss: 0.2107 - val_mean_absolute_error: 0.2398\n",
      "Epoch 10/200\n",
      "24/24 [==============================] - 0s 7ms/sample - loss: 0.0303 - mean_absolute_error: 0.1242 - val_loss: 0.1947 - val_mean_absolute_error: 0.2322\n",
      "Epoch 11/200\n",
      "24/24 [==============================] - 0s 4ms/sample - loss: 0.0280 - mean_absolute_error: 0.1200 - val_loss: 0.1753 - val_mean_absolute_error: 0.2194\n",
      "Epoch 12/200\n",
      "24/24 [==============================] - 0s 3ms/sample - loss: 0.0254 - mean_absolute_error: 0.1155 - val_loss: 0.1763 - val_mean_absolute_error: 0.2205\n",
      "Epoch 13/200\n",
      "24/24 [==============================] - 0s 7ms/sample - loss: 0.0214 - mean_absolute_error: 0.1050 - val_loss: 0.1431 - val_mean_absolute_error: 0.1952\n",
      "Epoch 14/200\n",
      "24/24 [==============================] - 0s 4ms/sample - loss: 0.0201 - mean_absolute_error: 0.0988 - val_loss: 0.1627 - val_mean_absolute_error: 0.2138\n",
      "Epoch 15/200\n",
      "24/24 [==============================] - 0s 3ms/sample - loss: 0.0187 - mean_absolute_error: 0.1019 - val_loss: 0.1204 - val_mean_absolute_error: 0.1826\n",
      "Epoch 16/200\n",
      "24/24 [==============================] - 0s 6ms/sample - loss: 0.0184 - mean_absolute_error: 0.0920 - val_loss: 0.1618 - val_mean_absolute_error: 0.2129\n",
      "Epoch 17/200\n",
      "24/24 [==============================] - 0s 8ms/sample - loss: 0.0155 - mean_absolute_error: 0.0893 - val_loss: 0.1034 - val_mean_absolute_error: 0.1635\n",
      "Epoch 18/200\n",
      "24/24 [==============================] - 0s 4ms/sample - loss: 0.0128 - mean_absolute_error: 0.0810 - val_loss: 0.1035 - val_mean_absolute_error: 0.1596\n",
      "Epoch 19/200\n",
      "24/24 [==============================] - 0s 7ms/sample - loss: 0.0108 - mean_absolute_error: 0.0727 - val_loss: 0.0956 - val_mean_absolute_error: 0.1580\n",
      "Epoch 20/200\n",
      "24/24 [==============================] - 0s 4ms/sample - loss: 0.0112 - mean_absolute_error: 0.0722 - val_loss: 0.1222 - val_mean_absolute_error: 0.1856\n",
      "Epoch 21/200\n",
      "24/24 [==============================] - 0s 4ms/sample - loss: 0.0092 - mean_absolute_error: 0.0640 - val_loss: 0.0960 - val_mean_absolute_error: 0.1549\n",
      "Epoch 22/200\n",
      "24/24 [==============================] - 0s 4ms/sample - loss: 0.0079 - mean_absolute_error: 0.0618 - val_loss: 0.0953 - val_mean_absolute_error: 0.1566\n",
      "Epoch 23/200\n",
      "24/24 [==============================] - 0s 5ms/sample - loss: 0.0067 - mean_absolute_error: 0.0558 - val_loss: 0.0833 - val_mean_absolute_error: 0.1451\n",
      "Epoch 24/200\n",
      "24/24 [==============================] - 0s 3ms/sample - loss: 0.0061 - mean_absolute_error: 0.0524 - val_loss: 0.0883 - val_mean_absolute_error: 0.1503\n",
      "Epoch 25/200\n",
      "24/24 [==============================] - 0s 4ms/sample - loss: 0.0061 - mean_absolute_error: 0.0512 - val_loss: 0.0776 - val_mean_absolute_error: 0.1354\n",
      "Epoch 26/200\n",
      "24/24 [==============================] - 0s 7ms/sample - loss: 0.0063 - mean_absolute_error: 0.0493 - val_loss: 0.0879 - val_mean_absolute_error: 0.1524\n",
      "Epoch 27/200\n",
      "24/24 [==============================] - 0s 4ms/sample - loss: 0.0048 - mean_absolute_error: 0.0467 - val_loss: 0.0746 - val_mean_absolute_error: 0.1342\n",
      "Epoch 28/200\n",
      "24/24 [==============================] - 0s 5ms/sample - loss: 0.0047 - mean_absolute_error: 0.0463 - val_loss: 0.0695 - val_mean_absolute_error: 0.1299\n",
      "Epoch 29/200\n",
      "24/24 [==============================] - 0s 7ms/sample - loss: 0.0046 - mean_absolute_error: 0.0447 - val_loss: 0.0708 - val_mean_absolute_error: 0.1325\n",
      "Epoch 30/200\n",
      "24/24 [==============================] - 0s 5ms/sample - loss: 0.0044 - mean_absolute_error: 0.0472 - val_loss: 0.0684 - val_mean_absolute_error: 0.1265\n",
      "Epoch 31/200\n",
      "24/24 [==============================] - 0s 4ms/sample - loss: 0.0044 - mean_absolute_error: 0.0432 - val_loss: 0.0623 - val_mean_absolute_error: 0.1252\n",
      "Epoch 32/200\n",
      "24/24 [==============================] - 0s 7ms/sample - loss: 0.0042 - mean_absolute_error: 0.0450 - val_loss: 0.0577 - val_mean_absolute_error: 0.1190\n",
      "Epoch 33/200\n",
      "24/24 [==============================] - 0s 6ms/sample - loss: 0.0045 - mean_absolute_error: 0.0467 - val_loss: 0.0694 - val_mean_absolute_error: 0.1319\n",
      "Epoch 34/200\n",
      "24/24 [==============================] - 0s 7ms/sample - loss: 0.0039 - mean_absolute_error: 0.0430 - val_loss: 0.0678 - val_mean_absolute_error: 0.1279\n",
      "Epoch 35/200\n",
      "24/24 [==============================] - 0s 5ms/sample - loss: 0.0034 - mean_absolute_error: 0.0416 - val_loss: 0.0613 - val_mean_absolute_error: 0.1262\n",
      "Epoch 36/200\n",
      "24/24 [==============================] - 0s 5ms/sample - loss: 0.0038 - mean_absolute_error: 0.0435 - val_loss: 0.0601 - val_mean_absolute_error: 0.1166\n",
      "Epoch 37/200\n",
      "24/24 [==============================] - 0s 5ms/sample - loss: 0.0036 - mean_absolute_error: 0.0398 - val_loss: 0.0684 - val_mean_absolute_error: 0.1265\n",
      "Epoch 38/200\n",
      "24/24 [==============================] - 0s 7ms/sample - loss: 0.0040 - mean_absolute_error: 0.0459 - val_loss: 0.0673 - val_mean_absolute_error: 0.1296\n",
      "Epoch 39/200\n",
      "24/24 [==============================] - 0s 3ms/sample - loss: 0.0033 - mean_absolute_error: 0.0397 - val_loss: 0.0543 - val_mean_absolute_error: 0.1144\n",
      "Epoch 40/200\n",
      "24/24 [==============================] - 0s 4ms/sample - loss: 0.0032 - mean_absolute_error: 0.0396 - val_loss: 0.0547 - val_mean_absolute_error: 0.1209\n",
      "Epoch 41/200\n",
      "24/24 [==============================] - 0s 10ms/sample - loss: 0.0029 - mean_absolute_error: 0.0361 - val_loss: 0.0603 - val_mean_absolute_error: 0.1159\n",
      "Epoch 42/200\n",
      "24/24 [==============================] - 0s 4ms/sample - loss: 0.0038 - mean_absolute_error: 0.0417 - val_loss: 0.0511 - val_mean_absolute_error: 0.1128\n",
      "Epoch 43/200\n",
      "24/24 [==============================] - 0s 4ms/sample - loss: 0.0027 - mean_absolute_error: 0.0380 - val_loss: 0.0567 - val_mean_absolute_error: 0.1154\n",
      "Epoch 44/200\n",
      "24/24 [==============================] - 0s 4ms/sample - loss: 0.0027 - mean_absolute_error: 0.0326 - val_loss: 0.0454 - val_mean_absolute_error: 0.1053\n",
      "Epoch 45/200\n",
      "24/24 [==============================] - 0s 5ms/sample - loss: 0.0025 - mean_absolute_error: 0.0350 - val_loss: 0.0577 - val_mean_absolute_error: 0.1162\n",
      "Epoch 46/200\n",
      "24/24 [==============================] - 0s 4ms/sample - loss: 0.0027 - mean_absolute_error: 0.0354 - val_loss: 0.0433 - val_mean_absolute_error: 0.1088\n",
      "Epoch 47/200\n",
      "24/24 [==============================] - 0s 5ms/sample - loss: 0.0032 - mean_absolute_error: 0.0383 - val_loss: 0.0513 - val_mean_absolute_error: 0.1106\n",
      "Epoch 48/200\n",
      "24/24 [==============================] - 0s 5ms/sample - loss: 0.0025 - mean_absolute_error: 0.0373 - val_loss: 0.0578 - val_mean_absolute_error: 0.1167\n",
      "Epoch 49/200\n",
      "24/24 [==============================] - 0s 5ms/sample - loss: 0.0022 - mean_absolute_error: 0.0319 - val_loss: 0.0519 - val_mean_absolute_error: 0.1109\n",
      "Epoch 50/200\n"
     ]
    },
    {
     "name": "stdout",
     "output_type": "stream",
     "text": [
      "24/24 [==============================] - 0s 5ms/sample - loss: 0.0021 - mean_absolute_error: 0.0311 - val_loss: 0.0551 - val_mean_absolute_error: 0.1148\n",
      "Epoch 51/200\n",
      "24/24 [==============================] - 0s 5ms/sample - loss: 0.0023 - mean_absolute_error: 0.0319 - val_loss: 0.0504 - val_mean_absolute_error: 0.1089\n",
      "Epoch 52/200\n",
      "24/24 [==============================] - 0s 3ms/sample - loss: 0.0020 - mean_absolute_error: 0.0311 - val_loss: 0.0472 - val_mean_absolute_error: 0.1103\n",
      "Epoch 53/200\n",
      "24/24 [==============================] - 0s 6ms/sample - loss: 0.0021 - mean_absolute_error: 0.0325 - val_loss: 0.0619 - val_mean_absolute_error: 0.1206\n",
      "Epoch 54/200\n",
      "24/24 [==============================] - 0s 9ms/sample - loss: 0.0021 - mean_absolute_error: 0.0307 - val_loss: 0.0405 - val_mean_absolute_error: 0.1025\n",
      "Epoch 55/200\n",
      "24/24 [==============================] - 0s 5ms/sample - loss: 0.0017 - mean_absolute_error: 0.0292 - val_loss: 0.0533 - val_mean_absolute_error: 0.1209\n",
      "Epoch 56/200\n",
      "24/24 [==============================] - 0s 6ms/sample - loss: 0.0018 - mean_absolute_error: 0.0301 - val_loss: 0.0434 - val_mean_absolute_error: 0.1006\n",
      "Epoch 57/200\n",
      "24/24 [==============================] - 0s 4ms/sample - loss: 0.0020 - mean_absolute_error: 0.0298 - val_loss: 0.0556 - val_mean_absolute_error: 0.1215\n",
      "Epoch 58/200\n",
      "24/24 [==============================] - 0s 4ms/sample - loss: 0.0017 - mean_absolute_error: 0.0274 - val_loss: 0.0374 - val_mean_absolute_error: 0.0996\n",
      "Epoch 59/200\n",
      "24/24 [==============================] - 0s 5ms/sample - loss: 0.0021 - mean_absolute_error: 0.0316 - val_loss: 0.0664 - val_mean_absolute_error: 0.1259\n",
      "Epoch 60/200\n",
      "24/24 [==============================] - 0s 4ms/sample - loss: 0.0018 - mean_absolute_error: 0.0284 - val_loss: 0.0432 - val_mean_absolute_error: 0.1052\n",
      "Epoch 61/200\n",
      "24/24 [==============================] - 0s 3ms/sample - loss: 0.0020 - mean_absolute_error: 0.0321 - val_loss: 0.0481 - val_mean_absolute_error: 0.1113\n",
      "Epoch 62/200\n",
      "24/24 [==============================] - 0s 4ms/sample - loss: 0.0016 - mean_absolute_error: 0.0272 - val_loss: 0.0424 - val_mean_absolute_error: 0.1036\n",
      "Epoch 63/200\n",
      "24/24 [==============================] - 0s 3ms/sample - loss: 0.0013 - mean_absolute_error: 0.0256 - val_loss: 0.0472 - val_mean_absolute_error: 0.1093\n",
      "Epoch 64/200\n",
      "24/24 [==============================] - 0s 4ms/sample - loss: 0.0016 - mean_absolute_error: 0.0282 - val_loss: 0.0465 - val_mean_absolute_error: 0.1033\n",
      "Epoch 65/200\n",
      "24/24 [==============================] - 0s 7ms/sample - loss: 0.0013 - mean_absolute_error: 0.0261 - val_loss: 0.0466 - val_mean_absolute_error: 0.1061\n",
      "Epoch 66/200\n",
      "24/24 [==============================] - 0s 4ms/sample - loss: 0.0013 - mean_absolute_error: 0.0262 - val_loss: 0.0436 - val_mean_absolute_error: 0.1024\n",
      "Epoch 67/200\n",
      "24/24 [==============================] - 0s 7ms/sample - loss: 0.0014 - mean_absolute_error: 0.0253 - val_loss: 0.0433 - val_mean_absolute_error: 0.1029\n",
      "Epoch 68/200\n",
      "24/24 [==============================] - 0s 4ms/sample - loss: 0.0014 - mean_absolute_error: 0.0265 - val_loss: 0.0622 - val_mean_absolute_error: 0.1246\n",
      "Epoch 69/200\n",
      "24/24 [==============================] - 0s 4ms/sample - loss: 0.0017 - mean_absolute_error: 0.0269 - val_loss: 0.0558 - val_mean_absolute_error: 0.1155\n",
      "Epoch 70/200\n",
      "24/24 [==============================] - 0s 5ms/sample - loss: 0.0013 - mean_absolute_error: 0.0233 - val_loss: 0.0479 - val_mean_absolute_error: 0.1017\n",
      "Epoch 71/200\n",
      "24/24 [==============================] - 0s 6ms/sample - loss: 0.0015 - mean_absolute_error: 0.0273 - val_loss: 0.0456 - val_mean_absolute_error: 0.1044\n",
      "Epoch 72/200\n",
      "24/24 [==============================] - 0s 7ms/sample - loss: 0.0013 - mean_absolute_error: 0.0260 - val_loss: 0.0313 - val_mean_absolute_error: 0.1005\n",
      "Epoch 73/200\n",
      "24/24 [==============================] - 0s 8ms/sample - loss: 0.0014 - mean_absolute_error: 0.0261 - val_loss: 0.0385 - val_mean_absolute_error: 0.1017\n",
      "Epoch 74/200\n",
      "24/24 [==============================] - 0s 5ms/sample - loss: 0.0010 - mean_absolute_error: 0.0224 - val_loss: 0.0354 - val_mean_absolute_error: 0.0910\n",
      "Epoch 75/200\n",
      "24/24 [==============================] - 0s 8ms/sample - loss: 0.0015 - mean_absolute_error: 0.0275 - val_loss: 0.0419 - val_mean_absolute_error: 0.0992\n",
      "Epoch 76/200\n",
      "24/24 [==============================] - 0s 7ms/sample - loss: 8.2996e-04 - mean_absolute_error: 0.0200 - val_loss: 0.0387 - val_mean_absolute_error: 0.1017\n",
      "Epoch 77/200\n",
      "24/24 [==============================] - 0s 7ms/sample - loss: 8.8943e-04 - mean_absolute_error: 0.0208 - val_loss: 0.0406 - val_mean_absolute_error: 0.1032\n",
      "Epoch 78/200\n",
      "24/24 [==============================] - 0s 10ms/sample - loss: 9.4659e-04 - mean_absolute_error: 0.0221 - val_loss: 0.0427 - val_mean_absolute_error: 0.1022\n",
      "Epoch 79/200\n",
      "24/24 [==============================] - 0s 7ms/sample - loss: 7.7576e-04 - mean_absolute_error: 0.0193 - val_loss: 0.0332 - val_mean_absolute_error: 0.0950\n",
      "Epoch 80/200\n",
      "24/24 [==============================] - 0s 5ms/sample - loss: 9.9609e-04 - mean_absolute_error: 0.0221 - val_loss: 0.0402 - val_mean_absolute_error: 0.1028\n",
      "Epoch 81/200\n",
      "24/24 [==============================] - 0s 7ms/sample - loss: 8.0883e-04 - mean_absolute_error: 0.0210 - val_loss: 0.0458 - val_mean_absolute_error: 0.1063\n",
      "Epoch 82/200\n",
      "24/24 [==============================] - 0s 7ms/sample - loss: 0.0012 - mean_absolute_error: 0.0221 - val_loss: 0.0269 - val_mean_absolute_error: 0.0899\n",
      "Epoch 83/200\n",
      "24/24 [==============================] - 0s 6ms/sample - loss: 7.7706e-04 - mean_absolute_error: 0.0210 - val_loss: 0.0536 - val_mean_absolute_error: 0.1142\n",
      "Epoch 84/200\n",
      "24/24 [==============================] - 0s 5ms/sample - loss: 0.0010 - mean_absolute_error: 0.0238 - val_loss: 0.0486 - val_mean_absolute_error: 0.1133\n",
      "Epoch 85/200\n",
      "24/24 [==============================] - 0s 5ms/sample - loss: 0.0011 - mean_absolute_error: 0.0238 - val_loss: 0.0410 - val_mean_absolute_error: 0.0977\n",
      "Epoch 86/200\n",
      "24/24 [==============================] - 0s 6ms/sample - loss: 6.1559e-04 - mean_absolute_error: 0.0191 - val_loss: 0.0327 - val_mean_absolute_error: 0.0946\n",
      "Epoch 87/200\n",
      "24/24 [==============================] - 0s 5ms/sample - loss: 6.3358e-04 - mean_absolute_error: 0.0165 - val_loss: 0.0526 - val_mean_absolute_error: 0.1150\n",
      "Epoch 88/200\n",
      "24/24 [==============================] - 0s 4ms/sample - loss: 8.6686e-04 - mean_absolute_error: 0.0210 - val_loss: 0.0360 - val_mean_absolute_error: 0.0988\n",
      "Epoch 89/200\n",
      "24/24 [==============================] - 0s 11ms/sample - loss: 6.5251e-04 - mean_absolute_error: 0.0184 - val_loss: 0.0465 - val_mean_absolute_error: 0.1058\n",
      "Epoch 90/200\n",
      "24/24 [==============================] - 0s 5ms/sample - loss: 0.0012 - mean_absolute_error: 0.0225 - val_loss: 0.0292 - val_mean_absolute_error: 0.0882\n",
      "Epoch 91/200\n",
      "24/24 [==============================] - 0s 7ms/sample - loss: 8.0899e-04 - mean_absolute_error: 0.0202 - val_loss: 0.0387 - val_mean_absolute_error: 0.1041\n",
      "Epoch 92/200\n",
      "24/24 [==============================] - 0s 8ms/sample - loss: 9.6136e-04 - mean_absolute_error: 0.0202 - val_loss: 0.0355 - val_mean_absolute_error: 0.0984\n",
      "Epoch 93/200\n",
      "24/24 [==============================] - 0s 19ms/sample - loss: 7.4983e-04 - mean_absolute_error: 0.0195 - val_loss: 0.0480 - val_mean_absolute_error: 0.1101\n",
      "Epoch 94/200\n",
      "24/24 [==============================] - 1s 26ms/sample - loss: 8.2926e-04 - mean_absolute_error: 0.0201 - val_loss: 0.0384 - val_mean_absolute_error: 0.0960\n",
      "Epoch 95/200\n",
      "24/24 [==============================] - 0s 17ms/sample - loss: 7.1858e-04 - mean_absolute_error: 0.0195 - val_loss: 0.0336 - val_mean_absolute_error: 0.0940\n",
      "Epoch 96/200\n",
      "24/24 [==============================] - 0s 13ms/sample - loss: 4.6083e-04 - mean_absolute_error: 0.0144 - val_loss: 0.0296 - val_mean_absolute_error: 0.0981\n",
      "Epoch 97/200\n",
      "24/24 [==============================] - 0s 14ms/sample - loss: 7.3500e-04 - mean_absolute_error: 0.0195 - val_loss: 0.0312 - val_mean_absolute_error: 0.0966\n",
      "Epoch 98/200\n",
      "24/24 [==============================] - 0s 12ms/sample - loss: 8.7941e-04 - mean_absolute_error: 0.0209 - val_loss: 0.0318 - val_mean_absolute_error: 0.0999\n"
     ]
    },
    {
     "name": "stdout",
     "output_type": "stream",
     "text": [
      "Epoch 99/200\n",
      "24/24 [==============================] - 0s 15ms/sample - loss: 4.5038e-04 - mean_absolute_error: 0.0161 - val_loss: 0.0371 - val_mean_absolute_error: 0.0978\n",
      "Epoch 100/200\n",
      "24/24 [==============================] - 0s 7ms/sample - loss: 3.8012e-04 - mean_absolute_error: 0.0142 - val_loss: 0.0321 - val_mean_absolute_error: 0.0893\n",
      "Epoch 101/200\n",
      "24/24 [==============================] - 0s 5ms/sample - loss: 4.2568e-04 - mean_absolute_error: 0.0136 - val_loss: 0.0277 - val_mean_absolute_error: 0.0851\n",
      "Epoch 102/200\n",
      "24/24 [==============================] - 0s 4ms/sample - loss: 2.9593e-04 - mean_absolute_error: 0.0141 - val_loss: 0.0347 - val_mean_absolute_error: 0.0993\n",
      "Epoch 103/200\n",
      "24/24 [==============================] - 0s 15ms/sample - loss: 4.1702e-04 - mean_absolute_error: 0.0144 - val_loss: 0.0375 - val_mean_absolute_error: 0.0961\n",
      "Epoch 104/200\n",
      "24/24 [==============================] - 0s 3ms/sample - loss: 5.0515e-04 - mean_absolute_error: 0.0146 - val_loss: 0.0296 - val_mean_absolute_error: 0.0877\n",
      "Epoch 105/200\n",
      "24/24 [==============================] - 0s 2ms/sample - loss: 5.2882e-04 - mean_absolute_error: 0.0162 - val_loss: 0.0196 - val_mean_absolute_error: 0.0908\n",
      "Epoch 106/200\n",
      "24/24 [==============================] - 0s 4ms/sample - loss: 0.0015 - mean_absolute_error: 0.0233 - val_loss: 0.0229 - val_mean_absolute_error: 0.1075\n",
      "Epoch 107/200\n",
      "24/24 [==============================] - 0s 6ms/sample - loss: 0.0014 - mean_absolute_error: 0.0279 - val_loss: 0.0412 - val_mean_absolute_error: 0.1171\n",
      "Epoch 108/200\n",
      "24/24 [==============================] - 0s 4ms/sample - loss: 8.6678e-04 - mean_absolute_error: 0.0224 - val_loss: 0.0307 - val_mean_absolute_error: 0.0895\n",
      "Epoch 109/200\n",
      "24/24 [==============================] - 0s 3ms/sample - loss: 0.0010 - mean_absolute_error: 0.0207 - val_loss: 0.0215 - val_mean_absolute_error: 0.0858\n",
      "Epoch 110/200\n",
      "24/24 [==============================] - 0s 4ms/sample - loss: 3.7916e-04 - mean_absolute_error: 0.0141 - val_loss: 0.0391 - val_mean_absolute_error: 0.1015\n",
      "Epoch 111/200\n",
      "24/24 [==============================] - 0s 4ms/sample - loss: 4.2804e-04 - mean_absolute_error: 0.0153 - val_loss: 0.0207 - val_mean_absolute_error: 0.0806\n",
      "Epoch 112/200\n",
      "24/24 [==============================] - 0s 5ms/sample - loss: 3.0934e-04 - mean_absolute_error: 0.0127 - val_loss: 0.0272 - val_mean_absolute_error: 0.0917\n",
      "Epoch 113/200\n",
      "24/24 [==============================] - 0s 5ms/sample - loss: 2.8934e-04 - mean_absolute_error: 0.0129 - val_loss: 0.0302 - val_mean_absolute_error: 0.0895\n",
      "Epoch 114/200\n",
      "24/24 [==============================] - 0s 3ms/sample - loss: 3.8837e-04 - mean_absolute_error: 0.0117 - val_loss: 0.0247 - val_mean_absolute_error: 0.0815\n",
      "Epoch 115/200\n",
      "24/24 [==============================] - 0s 6ms/sample - loss: 2.3792e-04 - mean_absolute_error: 0.0105 - val_loss: 0.0272 - val_mean_absolute_error: 0.0848\n",
      "Epoch 116/200\n",
      "24/24 [==============================] - 0s 13ms/sample - loss: 2.6826e-04 - mean_absolute_error: 0.0112 - val_loss: 0.0327 - val_mean_absolute_error: 0.0972\n",
      "Epoch 117/200\n",
      "24/24 [==============================] - 0s 4ms/sample - loss: 2.0613e-04 - mean_absolute_error: 0.0113 - val_loss: 0.0262 - val_mean_absolute_error: 0.0827\n",
      "Epoch 118/200\n",
      "24/24 [==============================] - 0s 4ms/sample - loss: 2.9070e-04 - mean_absolute_error: 0.0122 - val_loss: 0.0265 - val_mean_absolute_error: 0.0816\n",
      "Epoch 119/200\n",
      "24/24 [==============================] - 0s 6ms/sample - loss: 2.6090e-04 - mean_absolute_error: 0.0119 - val_loss: 0.0331 - val_mean_absolute_error: 0.0920\n",
      "Epoch 120/200\n",
      "24/24 [==============================] - 0s 5ms/sample - loss: 2.8939e-04 - mean_absolute_error: 0.0117 - val_loss: 0.0292 - val_mean_absolute_error: 0.0874\n",
      "Epoch 121/200\n",
      "24/24 [==============================] - 0s 4ms/sample - loss: 2.0943e-04 - mean_absolute_error: 0.0109 - val_loss: 0.0243 - val_mean_absolute_error: 0.0830\n",
      "Epoch 122/200\n",
      "24/24 [==============================] - 0s 3ms/sample - loss: 2.1156e-04 - mean_absolute_error: 0.0108 - val_loss: 0.0335 - val_mean_absolute_error: 0.0968\n",
      "Epoch 123/200\n",
      "24/24 [==============================] - 0s 4ms/sample - loss: 3.8431e-04 - mean_absolute_error: 0.0137 - val_loss: 0.0348 - val_mean_absolute_error: 0.0970\n",
      "Epoch 124/200\n",
      "24/24 [==============================] - 0s 6ms/sample - loss: 4.0054e-04 - mean_absolute_error: 0.0154 - val_loss: 0.0251 - val_mean_absolute_error: 0.0833\n",
      "Epoch 125/200\n",
      "24/24 [==============================] - 0s 4ms/sample - loss: 1.0587e-04 - mean_absolute_error: 0.0078 - val_loss: 0.0257 - val_mean_absolute_error: 0.0873\n",
      "Epoch 126/200\n",
      "24/24 [==============================] - 0s 7ms/sample - loss: 2.2781e-04 - mean_absolute_error: 0.0099 - val_loss: 0.0275 - val_mean_absolute_error: 0.0896\n",
      "Epoch 127/200\n",
      "24/24 [==============================] - 0s 10ms/sample - loss: 3.0004e-04 - mean_absolute_error: 0.0126 - val_loss: 0.0283 - val_mean_absolute_error: 0.0909\n",
      "Epoch 128/200\n",
      "24/24 [==============================] - 0s 5ms/sample - loss: 5.2268e-04 - mean_absolute_error: 0.0159 - val_loss: 0.0379 - val_mean_absolute_error: 0.1089\n",
      "Epoch 129/200\n",
      "24/24 [==============================] - 0s 6ms/sample - loss: 5.5688e-04 - mean_absolute_error: 0.0150 - val_loss: 0.0255 - val_mean_absolute_error: 0.0816\n",
      "Epoch 130/200\n",
      "24/24 [==============================] - 0s 3ms/sample - loss: 3.5667e-04 - mean_absolute_error: 0.0134 - val_loss: 0.0271 - val_mean_absolute_error: 0.0819\n",
      "Epoch 131/200\n",
      "24/24 [==============================] - 0s 5ms/sample - loss: 1.6931e-04 - mean_absolute_error: 0.0099 - val_loss: 0.0267 - val_mean_absolute_error: 0.0860\n",
      "Epoch 132/200\n",
      "24/24 [==============================] - 0s 7ms/sample - loss: 1.5853e-04 - mean_absolute_error: 0.0084 - val_loss: 0.0253 - val_mean_absolute_error: 0.0842\n",
      "Epoch 133/200\n",
      "24/24 [==============================] - 0s 4ms/sample - loss: 4.0829e-04 - mean_absolute_error: 0.0140 - val_loss: 0.0172 - val_mean_absolute_error: 0.0740\n",
      "Epoch 134/200\n",
      "24/24 [==============================] - 0s 5ms/sample - loss: 2.7489e-04 - mean_absolute_error: 0.0115 - val_loss: 0.0258 - val_mean_absolute_error: 0.0877\n",
      "Epoch 135/200\n",
      "24/24 [==============================] - 0s 7ms/sample - loss: 3.0587e-04 - mean_absolute_error: 0.0116 - val_loss: 0.0254 - val_mean_absolute_error: 0.0851\n",
      "Epoch 136/200\n",
      "24/24 [==============================] - 0s 4ms/sample - loss: 2.7553e-04 - mean_absolute_error: 0.0115 - val_loss: 0.0248 - val_mean_absolute_error: 0.0813\n",
      "Epoch 137/200\n",
      "24/24 [==============================] - 0s 8ms/sample - loss: 0.0012 - mean_absolute_error: 0.0254 - val_loss: 0.0232 - val_mean_absolute_error: 0.0809\n",
      "Epoch 138/200\n",
      "24/24 [==============================] - 0s 5ms/sample - loss: 0.0016 - mean_absolute_error: 0.0297 - val_loss: 0.0233 - val_mean_absolute_error: 0.0802\n",
      "Epoch 139/200\n",
      "24/24 [==============================] - 0s 3ms/sample - loss: 0.0019 - mean_absolute_error: 0.0289 - val_loss: 0.0310 - val_mean_absolute_error: 0.0983\n",
      "Epoch 140/200\n",
      "24/24 [==============================] - 0s 6ms/sample - loss: 0.0018 - mean_absolute_error: 0.0283 - val_loss: 0.0396 - val_mean_absolute_error: 0.1262\n",
      "Epoch 141/200\n",
      "24/24 [==============================] - 0s 5ms/sample - loss: 0.0011 - mean_absolute_error: 0.0219 - val_loss: 0.0260 - val_mean_absolute_error: 0.0916\n",
      "Epoch 142/200\n",
      "24/24 [==============================] - 0s 4ms/sample - loss: 3.2367e-04 - mean_absolute_error: 0.0131 - val_loss: 0.0194 - val_mean_absolute_error: 0.0803\n",
      "Epoch 143/200\n",
      "24/24 [==============================] - 0s 6ms/sample - loss: 3.4980e-04 - mean_absolute_error: 0.0149 - val_loss: 0.0227 - val_mean_absolute_error: 0.0874\n",
      "Epoch 144/200\n",
      "24/24 [==============================] - 0s 6ms/sample - loss: 4.6246e-04 - mean_absolute_error: 0.0167 - val_loss: 0.0212 - val_mean_absolute_error: 0.0885\n",
      "Epoch 145/200\n",
      "24/24 [==============================] - 0s 4ms/sample - loss: 2.6898e-04 - mean_absolute_error: 0.0118 - val_loss: 0.0299 - val_mean_absolute_error: 0.1022\n",
      "Epoch 146/200\n",
      "24/24 [==============================] - 0s 7ms/sample - loss: 3.7600e-04 - mean_absolute_error: 0.0142 - val_loss: 0.0243 - val_mean_absolute_error: 0.0931\n",
      "Epoch 147/200\n"
     ]
    },
    {
     "name": "stdout",
     "output_type": "stream",
     "text": [
      "24/24 [==============================] - 0s 4ms/sample - loss: 4.1975e-04 - mean_absolute_error: 0.0160 - val_loss: 0.0247 - val_mean_absolute_error: 0.0913\n",
      "Epoch 148/200\n",
      "24/24 [==============================] - 0s 3ms/sample - loss: 2.6680e-04 - mean_absolute_error: 0.0133 - val_loss: 0.0233 - val_mean_absolute_error: 0.0829\n",
      "Epoch 149/200\n",
      "24/24 [==============================] - 0s 5ms/sample - loss: 2.0030e-04 - mean_absolute_error: 0.0111 - val_loss: 0.0200 - val_mean_absolute_error: 0.0755\n",
      "Epoch 150/200\n",
      "24/24 [==============================] - 0s 8ms/sample - loss: 3.5413e-04 - mean_absolute_error: 0.0129 - val_loss: 0.0190 - val_mean_absolute_error: 0.0764\n",
      "Epoch 151/200\n",
      "24/24 [==============================] - 0s 3ms/sample - loss: 1.8857e-04 - mean_absolute_error: 0.0097 - val_loss: 0.0181 - val_mean_absolute_error: 0.0769\n",
      "Epoch 152/200\n",
      "24/24 [==============================] - 0s 4ms/sample - loss: 3.1321e-04 - mean_absolute_error: 0.0109 - val_loss: 0.0220 - val_mean_absolute_error: 0.0819\n",
      "Epoch 153/200\n",
      "24/24 [==============================] - 0s 4ms/sample - loss: 7.0751e-04 - mean_absolute_error: 0.0176 - val_loss: 0.0193 - val_mean_absolute_error: 0.0822\n",
      "Epoch 154/200\n",
      "24/24 [==============================] - 0s 3ms/sample - loss: 9.0583e-04 - mean_absolute_error: 0.0222 - val_loss: 0.0355 - val_mean_absolute_error: 0.1207\n",
      "Epoch 155/200\n",
      "24/24 [==============================] - 0s 4ms/sample - loss: 3.3254e-04 - mean_absolute_error: 0.0136 - val_loss: 0.0266 - val_mean_absolute_error: 0.0973\n",
      "Epoch 156/200\n",
      "24/24 [==============================] - 0s 5ms/sample - loss: 3.9127e-04 - mean_absolute_error: 0.0144 - val_loss: 0.0193 - val_mean_absolute_error: 0.0814\n",
      "Epoch 157/200\n",
      "24/24 [==============================] - 0s 5ms/sample - loss: 8.9066e-04 - mean_absolute_error: 0.0183 - val_loss: 0.0172 - val_mean_absolute_error: 0.0849\n",
      "Epoch 158/200\n",
      "24/24 [==============================] - 0s 4ms/sample - loss: 0.0016 - mean_absolute_error: 0.0278 - val_loss: 0.0208 - val_mean_absolute_error: 0.0855\n",
      "Epoch 159/200\n",
      "24/24 [==============================] - 0s 6ms/sample - loss: 7.6386e-04 - mean_absolute_error: 0.0198 - val_loss: 0.0403 - val_mean_absolute_error: 0.1159\n",
      "Epoch 160/200\n",
      "24/24 [==============================] - 0s 4ms/sample - loss: 5.6799e-04 - mean_absolute_error: 0.0162 - val_loss: 0.0277 - val_mean_absolute_error: 0.0906\n",
      "Epoch 161/200\n",
      "24/24 [==============================] - 0s 3ms/sample - loss: 5.1094e-04 - mean_absolute_error: 0.0174 - val_loss: 0.0265 - val_mean_absolute_error: 0.0887\n",
      "Epoch 162/200\n",
      "24/24 [==============================] - 0s 4ms/sample - loss: 7.9658e-04 - mean_absolute_error: 0.0203 - val_loss: 0.0209 - val_mean_absolute_error: 0.0755\n",
      "Epoch 163/200\n",
      "24/24 [==============================] - 0s 6ms/sample - loss: 6.5523e-04 - mean_absolute_error: 0.0178 - val_loss: 0.0250 - val_mean_absolute_error: 0.0917\n",
      "Epoch 164/200\n",
      "24/24 [==============================] - 0s 4ms/sample - loss: 2.7408e-04 - mean_absolute_error: 0.0123 - val_loss: 0.0301 - val_mean_absolute_error: 0.1005\n",
      "Epoch 165/200\n",
      "24/24 [==============================] - 0s 3ms/sample - loss: 1.3524e-04 - mean_absolute_error: 0.0086 - val_loss: 0.0257 - val_mean_absolute_error: 0.0871\n",
      "Epoch 166/200\n",
      "24/24 [==============================] - 0s 5ms/sample - loss: 3.5948e-04 - mean_absolute_error: 0.0120 - val_loss: 0.0224 - val_mean_absolute_error: 0.0795\n",
      "Epoch 167/200\n",
      "24/24 [==============================] - 0s 5ms/sample - loss: 6.7273e-04 - mean_absolute_error: 0.0171 - val_loss: 0.0211 - val_mean_absolute_error: 0.0805\n",
      "Epoch 168/200\n",
      "24/24 [==============================] - 0s 4ms/sample - loss: 5.0964e-04 - mean_absolute_error: 0.0162 - val_loss: 0.0236 - val_mean_absolute_error: 0.0853\n",
      "Epoch 169/200\n",
      "24/24 [==============================] - 0s 4ms/sample - loss: 5.3958e-04 - mean_absolute_error: 0.0157 - val_loss: 0.0264 - val_mean_absolute_error: 0.0942\n",
      "Epoch 170/200\n",
      "24/24 [==============================] - 0s 5ms/sample - loss: 0.0034 - mean_absolute_error: 0.0342 - val_loss: 0.0285 - val_mean_absolute_error: 0.1034\n",
      "Epoch 171/200\n",
      "24/24 [==============================] - 0s 7ms/sample - loss: 0.0045 - mean_absolute_error: 0.0434 - val_loss: 0.0240 - val_mean_absolute_error: 0.0942\n",
      "Epoch 172/200\n",
      "24/24 [==============================] - 0s 8ms/sample - loss: 0.0017 - mean_absolute_error: 0.0287 - val_loss: 0.0149 - val_mean_absolute_error: 0.0675\n",
      "Epoch 173/200\n",
      "24/24 [==============================] - 0s 5ms/sample - loss: 0.0015 - mean_absolute_error: 0.0312 - val_loss: 0.0170 - val_mean_absolute_error: 0.0849\n",
      "Epoch 174/200\n",
      "24/24 [==============================] - 0s 6ms/sample - loss: 5.1272e-04 - mean_absolute_error: 0.0166 - val_loss: 0.0190 - val_mean_absolute_error: 0.0798\n",
      "Epoch 175/200\n",
      "24/24 [==============================] - 0s 7ms/sample - loss: 0.0012 - mean_absolute_error: 0.0263 - val_loss: 0.0241 - val_mean_absolute_error: 0.0977\n",
      "Epoch 176/200\n",
      "24/24 [==============================] - 0s 7ms/sample - loss: 0.0017 - mean_absolute_error: 0.0296 - val_loss: 0.0347 - val_mean_absolute_error: 0.1339\n",
      "Epoch 177/200\n",
      "24/24 [==============================] - 0s 6ms/sample - loss: 0.0030 - mean_absolute_error: 0.0379 - val_loss: 0.0300 - val_mean_absolute_error: 0.1031\n",
      "Epoch 178/200\n",
      "24/24 [==============================] - 0s 5ms/sample - loss: 3.9104e-04 - mean_absolute_error: 0.0144 - val_loss: 0.0231 - val_mean_absolute_error: 0.0870\n",
      "Epoch 179/200\n",
      "24/24 [==============================] - 0s 4ms/sample - loss: 1.9924e-04 - mean_absolute_error: 0.0110 - val_loss: 0.0225 - val_mean_absolute_error: 0.0814\n",
      "Epoch 180/200\n",
      "24/24 [==============================] - 0s 6ms/sample - loss: 2.2032e-04 - mean_absolute_error: 0.0107 - val_loss: 0.0204 - val_mean_absolute_error: 0.0817\n",
      "Epoch 181/200\n",
      "24/24 [==============================] - 0s 4ms/sample - loss: 6.6870e-04 - mean_absolute_error: 0.0181 - val_loss: 0.0192 - val_mean_absolute_error: 0.0870\n",
      "Epoch 182/200\n",
      "24/24 [==============================] - 0s 6ms/sample - loss: 5.6672e-04 - mean_absolute_error: 0.0172 - val_loss: 0.0203 - val_mean_absolute_error: 0.0824\n",
      "Epoch 183/200\n",
      "24/24 [==============================] - 0s 4ms/sample - loss: 6.9679e-04 - mean_absolute_error: 0.0187 - val_loss: 0.0164 - val_mean_absolute_error: 0.0867\n",
      "Epoch 184/200\n",
      "24/24 [==============================] - 0s 4ms/sample - loss: 3.7664e-04 - mean_absolute_error: 0.0127 - val_loss: 0.0178 - val_mean_absolute_error: 0.0731\n",
      "Epoch 185/200\n",
      "24/24 [==============================] - 0s 3ms/sample - loss: 4.8998e-04 - mean_absolute_error: 0.0154 - val_loss: 0.0128 - val_mean_absolute_error: 0.0744\n",
      "Epoch 186/200\n",
      "24/24 [==============================] - 0s 6ms/sample - loss: 0.0015 - mean_absolute_error: 0.0247 - val_loss: 0.0069 - val_mean_absolute_error: 0.0661\n",
      "Epoch 187/200\n",
      "24/24 [==============================] - 0s 5ms/sample - loss: 0.0028 - mean_absolute_error: 0.0309 - val_loss: 0.0078 - val_mean_absolute_error: 0.0663\n",
      "Epoch 188/200\n",
      "24/24 [==============================] - 0s 4ms/sample - loss: 0.0033 - mean_absolute_error: 0.0372 - val_loss: 0.0080 - val_mean_absolute_error: 0.0613\n",
      "Epoch 189/200\n",
      "24/24 [==============================] - 0s 4ms/sample - loss: 6.5495e-04 - mean_absolute_error: 0.0181 - val_loss: 0.0135 - val_mean_absolute_error: 0.0720\n",
      "Epoch 190/200\n",
      "24/24 [==============================] - 0s 8ms/sample - loss: 5.1875e-04 - mean_absolute_error: 0.0168 - val_loss: 0.0230 - val_mean_absolute_error: 0.0878\n",
      "Epoch 191/200\n",
      "24/24 [==============================] - 0s 9ms/sample - loss: 0.0015 - mean_absolute_error: 0.0302 - val_loss: 0.0060 - val_mean_absolute_error: 0.0518\n",
      "Epoch 192/200\n",
      "24/24 [==============================] - 0s 6ms/sample - loss: 0.0013 - mean_absolute_error: 0.0292 - val_loss: 0.0162 - val_mean_absolute_error: 0.0798\n",
      "Epoch 193/200\n",
      "24/24 [==============================] - 0s 5ms/sample - loss: 0.0014 - mean_absolute_error: 0.0266 - val_loss: 0.0140 - val_mean_absolute_error: 0.0721\n",
      "Epoch 194/200\n",
      "24/24 [==============================] - 0s 5ms/sample - loss: 0.0020 - mean_absolute_error: 0.0317 - val_loss: 0.0166 - val_mean_absolute_error: 0.1029\n",
      "Epoch 195/200\n"
     ]
    },
    {
     "name": "stdout",
     "output_type": "stream",
     "text": [
      "24/24 [==============================] - 0s 4ms/sample - loss: 0.0026 - mean_absolute_error: 0.0370 - val_loss: 0.0278 - val_mean_absolute_error: 0.1206\n",
      "Epoch 196/200\n",
      "24/24 [==============================] - 0s 3ms/sample - loss: 0.0014 - mean_absolute_error: 0.0273 - val_loss: 0.0209 - val_mean_absolute_error: 0.0810\n",
      "Epoch 197/200\n",
      "24/24 [==============================] - 0s 5ms/sample - loss: 9.2508e-04 - mean_absolute_error: 0.0249 - val_loss: 0.0135 - val_mean_absolute_error: 0.0707\n",
      "Epoch 198/200\n",
      "24/24 [==============================] - 0s 4ms/sample - loss: 8.4429e-04 - mean_absolute_error: 0.0230 - val_loss: 0.0055 - val_mean_absolute_error: 0.0565\n",
      "Epoch 199/200\n",
      "24/24 [==============================] - 0s 6ms/sample - loss: 0.0034 - mean_absolute_error: 0.0467 - val_loss: 0.0166 - val_mean_absolute_error: 0.0752\n",
      "Epoch 200/200\n",
      "24/24 [==============================] - 0s 4ms/sample - loss: 0.0031 - mean_absolute_error: 0.0419 - val_loss: 0.0142 - val_mean_absolute_error: 0.0799\n"
     ]
    },
    {
     "data": {
      "text/plain": [
       "<tensorflow.python.keras.callbacks.History at 0x22db72cf148>"
      ]
     },
     "execution_count": 14,
     "metadata": {},
     "output_type": "execute_result"
    }
   ],
   "source": [
    "model.fit(x_train, y_train, epochs=200, batch_size=1, verbose=1, validation_split=0.2)"
   ]
  },
  {
   "cell_type": "code",
   "execution_count": 15,
   "metadata": {},
   "outputs": [
    {
     "name": "stdout",
     "output_type": "stream",
     "text": [
      "0.006986094638705254 0.06448715\n"
     ]
    }
   ],
   "source": [
    "mse, mae = model.evaluate(x_test, y_test, verbose=0)\n",
    "print(mse, mae)"
   ]
  },
  {
   "cell_type": "code",
   "execution_count": null,
   "metadata": {},
   "outputs": [],
   "source": [
    "prediction = model.predict(x_test)"
   ]
  },
  {
   "cell_type": "code",
   "execution_count": 15,
   "metadata": {},
   "outputs": [
    {
     "data": {
      "text/plain": [
       "[0.07544440776109695, 0.1854756623506546]"
      ]
     },
     "execution_count": 15,
     "metadata": {},
     "output_type": "execute_result"
    }
   ],
   "source": [
    "model.evaluate(x_test, y_test, verbose=0)"
   ]
  },
  {
   "cell_type": "code",
   "execution_count": 17,
   "metadata": {},
   "outputs": [],
   "source": [
    "x_comet = load_comet(mean, std)"
   ]
  },
  {
   "cell_type": "code",
   "execution_count": 18,
   "metadata": {},
   "outputs": [
    {
     "data": {
      "text/plain": [
       "array([[1.4863395329075222, 0.7490506360740669],\n",
       "       [1.4485753693424712, 0.5859509007998749],\n",
       "       [1.4072146187712251, 0.4160553432225916],\n",
       "       [1.360458987690686, 0.2665472525545823],\n",
       "       [1.308308476100854, 0.12383498418966431],\n",
       "       [1.250763084001729, -0.018877284175253656],\n",
       "       [1.187822811393311, -0.14799790793398895],\n",
       "       [1.1176893647725024, -0.25673106478345026],\n",
       "       [1.0421610376424006, -0.35866839932982025],\n",
       "       [0.9630361235061038, -0.4470140892700076],\n",
       "       [0.873121448351221, -0.5285639569071036],\n",
       "       [0.7814084796932405, -0.5897263576349255],\n",
       "       [0.6807040435197717, -0.6440929360596561],\n",
       "       [0.5728064333339122, -0.6848678698782041],\n",
       "       [0.46131223614185746, -0.7052553367874782],\n",
       "       [0.34262486493741207, -0.7256428036967522],\n",
       "       [0.21854261322367372, -0.7256428036967522],\n",
       "       [0.09086377450374006, -0.7120511590905695],\n",
       "       [-0.024227009694510013, -0.6916636921812955],\n",
       "       [-0.17888025096090854, -0.6576845806658388],\n",
       "       [-0.3155505571963305, -0.6101138245441995],\n",
       "       [-0.45581745043794775, -0.5625430684225602],\n",
       "       [-0.5942860501764674, -0.5013806676947382],\n",
       "       [-0.7309563564118893, -0.4334224446638249],\n",
       "       [-0.8676266626473113, -0.3654642216329116],\n",
       "       [-1.0024986753796357, -0.2975059986019983],\n",
       "       [-1.131975807602667, -0.22954777557108494],\n",
       "       [-1.2578563528195028, -0.16158955254017163],\n",
       "       [-1.3765437240239482, -0.10042715181234964],\n",
       "       [-1.493432801725296, -0.046060573387618986]], dtype=object)"
      ]
     },
     "execution_count": 18,
     "metadata": {},
     "output_type": "execute_result"
    }
   ],
   "source": [
    "x_comet"
   ]
  },
  {
   "cell_type": "code",
   "execution_count": 21,
   "metadata": {},
   "outputs": [],
   "source": [
    "y_comet = model.predict(x_comet)"
   ]
  },
  {
   "cell_type": "code",
   "execution_count": 23,
   "metadata": {},
   "outputs": [],
   "source": [
    "import math\n",
    "rads = (y_comet*std[2:4] + mean[2:4])*180./math.pi"
   ]
  },
  {
   "cell_type": "code",
   "execution_count": 24,
   "metadata": {},
   "outputs": [
    {
     "data": {
      "text/plain": [
       "array([[26.85147880096451, 85.43203058366232],\n",
       "       [28.299162728776732, 85.89889301355646],\n",
       "       [29.812280208988362, 86.37888038084661],\n",
       "       [31.295886830190028, 87.05738695139866],\n",
       "       [32.791384722946376, 87.97348183858296],\n",
       "       [34.32918250571089, 88.94903514580649],\n",
       "       [35.867400046820535, 90.12990543263248],\n",
       "       [37.37821369900605, 91.6670475797031],\n",
       "       [38.908537454799976, 93.40881083933063],\n",
       "       [40.37818531499399, 95.38006944162758],\n",
       "       [41.8453551641261, 97.73547883187122],\n",
       "       [43.14133544972623, 100.48604014514527],\n",
       "       [44.45426771201514, 103.90436432447095],\n",
       "       [45.654081771267315, 108.28351798836066],\n",
       "       [46.606098829545026, 112.98211686084636],\n",
       "       [47.29948009006851, 118.0613107613468],\n",
       "       [47.69073694619573, 123.29705765208823],\n",
       "       [47.879547123487015, 128.52695604176506],\n",
       "       [47.882130330711206, 132.98256055536896],\n",
       "       [47.61463650294028, 138.98685941346957],\n",
       "       [46.921396872371865, 144.40208921974877],\n",
       "       [45.98502941097858, 150.34869496792345],\n",
       "       [44.59279309742855, 156.00634142265426],\n",
       "       [42.966446573345785, 161.19647985985628],\n",
       "       [41.19448315963134, 166.1789341627952],\n",
       "       [39.40669336816462, 171.05604907774892],\n",
       "       [37.677177343589555, 175.74433865984358],\n",
       "       [35.91324145543375, 180.44488837346847],\n",
       "       [34.255912095796994, 184.78287526696906],\n",
       "       [32.681466022699254, 189.02186803412772]], dtype=object)"
      ]
     },
     "execution_count": 24,
     "metadata": {},
     "output_type": "execute_result"
    }
   ],
   "source": [
    "rads"
   ]
  },
  {
   "cell_type": "code",
   "execution_count": 25,
   "metadata": {},
   "outputs": [],
   "source": [
    "from matplotlib import pyplot as plt"
   ]
  },
  {
   "cell_type": "code",
   "execution_count": 29,
   "metadata": {},
   "outputs": [
    {
     "data": {
      "text/plain": [
       "<matplotlib.collections.PathCollection at 0x22db9335948>"
      ]
     },
     "execution_count": 29,
     "metadata": {},
     "output_type": "execute_result"
    },
    {
     "data": {
      "image/png": "[encoded data removed]",
      "text/plain": [
       "<Figure size 432x288 with 1 Axes>"
      ]
     },
     "metadata": {
      "needs_background": "light"
     },
     "output_type": "display_data"
    }
   ],
   "source": [
    "plt.scatter(360 - rads[:,1], rads[:,0])"
   ]
  },
  {
   "cell_type": "code",
   "execution_count": null,
   "metadata": {},
   "outputs": [],
   "source": []
  }
 ],
 "metadata": {
  "kernelspec": {
   "display_name": "Python 3",
   "language": "python",
   "name": "python3"
  },
  "language_info": {
   "codemirror_mode": {
    "name": "ipython",
    "version": 3
   },
   "file_extension": ".py",
   "mimetype": "text/x-python",
   "name": "python",
   "nbconvert_exporter": "python",
   "pygments_lexer": "ipython3",
   "version": "3.7.5"
  }
 },
 "nbformat": 4,
 "nbformat_minor": 2
}
