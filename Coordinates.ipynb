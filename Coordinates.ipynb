{
  "nbformat": 4,
  "nbformat_minor": 0,
  "metadata": {
    "kernelspec": {
      "display_name": "Python 3",
      "language": "python",
      "name": "python3"
    },
    "language_info": {
      "codemirror_mode": {
        "name": "ipython",
        "version": 3
      },
      "file_extension": ".py",
      "mimetype": "text/x-python",
      "name": "python",
      "nbconvert_exporter": "python",
      "pygments_lexer": "ipython3",
      "version": "3.7.4"
    },
    "colab": {
      "name": "Coordinates.ipynb",
      "provenance": [],
      "toc_visible": true
    }
  },
  "cells": [
    {
      "cell_type": "markdown",
      "metadata": {
        "id": "7ZzomFADN0ts",
        "colab_type": "text"
      },
      "source": [
        "# Вычисление экваториальных координат кометы NEOWISE\n",
        "\n",
        "Created: 23.07.2020\n",
        "\n",
        "Last updated: 23.07.2020"
      ]
    },
    {
      "cell_type": "code",
      "metadata": {
        "id": "AZzGvJoIN0tw",
        "colab_type": "code",
        "colab": {}
      },
      "source": [
        "import numpy as np\n",
        "import pandas as pd\n",
        "import math"
      ],
      "execution_count": null,
      "outputs": []
    },
    {
      "cell_type": "markdown",
      "metadata": {
        "id": "WcKb_057N0t3",
        "colab_type": "text"
      },
      "source": [
        "Загружаем таблицу с положениями кометы в пикселях."
      ]
    },
    {
      "cell_type": "code",
      "metadata": {
        "scrolled": false,
        "id": "7IosUXzaN0t5",
        "colab_type": "code",
        "colab": {}
      },
      "source": [
        "comet = pd.read_csv('comet.csv')\n",
        "comet"
      ],
      "execution_count": null,
      "outputs": []
    },
    {
      "cell_type": "markdown",
      "metadata": {
        "id": "6mIhFuJFN0uD",
        "colab_type": "text"
      },
      "source": [
        "Загружаем положения звезд по пути кометы."
      ]
    },
    {
      "cell_type": "code",
      "metadata": {
        "id": "jDPDSVvxN0uE",
        "colab_type": "code",
        "colab": {}
      },
      "source": [
        "stars = pd.read_csv('stars.csv')\n",
        "stars"
      ],
      "execution_count": null,
      "outputs": []
    },
    {
      "cell_type": "markdown",
      "metadata": {
        "id": "6NdvWuc-N0uJ",
        "colab_type": "text"
      },
      "source": [
        "Теперь надо определить экваториальные координаты кометы, интерполируя значения координат звезд."
      ]
    },
    {
      "cell_type": "code",
      "metadata": {
        "id": "h6PA0SIyN0uS",
        "colab_type": "code",
        "colab": {}
      },
      "source": [
        "def hours2radians(RA):\n",
        "    (hh, mm, ss) = RA.split(':')\n",
        "    return 2*math.pi*(float(hh) + float(mm)/60. + float(ss)/3600.)/24."
      ],
      "execution_count": null,
      "outputs": []
    },
    {
      "cell_type": "code",
      "metadata": {
        "id": "wiUi2-d8N0vB",
        "colab_type": "code",
        "colab": {
          "base_uri": "https://localhost:8080/",
          "height": 306
        },
        "outputId": "b866cb39-0755-4ed9-c17a-e4cf69269eb2"
      },
      "source": [
        "stars.values"
      ],
      "execution_count": null,
      "outputs": [
        {
          "output_type": "execute_result",
          "data": {
            "text/plain": [
              "array([[1523, 136, 44.75, '5:55:32', 'beta Auriga'],\n",
              "       [1608, 274, 37.195, '5:56:49', 'theta Auriga'],\n",
              "       [1438, 436, 34.146, '6:49:00', 'theta Gemini'],\n",
              "       [1665, 592, 22.439, '6:19:49', 'mu Gemini'],\n",
              "       [1277, 535, 31.951, '7:30:58', 'alfa Gemini'],\n",
              "       [1548, 589, 25.366, '6:40:43', 'epsilon Gemini'],\n",
              "       [1210, 179, 49.146, '7:23:46', 'Lynx'],\n",
              "       [1040, 341, 43.293, '8:19:02', 'Lynx'],\n",
              "       [903, 249, 48.17100000000001, '8:55:20', 'iota Ursa Major'],\n",
              "       [888, 267, 47.195, '9:00:00', 'kappa Ursa Major'],\n",
              "       [796, 168, 51.82899999999999, '9:28:32', 'theta Ursa Major'],\n",
              "       [614, 322, 43.049, '10:13:56', 'lambda Ursa Major'],\n",
              "       [587, 346, 41.585, '10:19:13', 'mu Ursa Major'],\n",
              "       [483, 275, 43.537, '10:50:49', 'omega Ursa Major'],\n",
              "       [439, 230, 44.63399999999999, '11:06:15', 'psi Ursa Major'],\n",
              "       [353, 112, 48.049, '11:43:38', 'xi Ursa Major'],\n",
              "       [312, 433, 33.415, '11:16:00', 'nu Ursa Major']], dtype=object)"
            ]
          },
          "metadata": {
            "tags": []
          },
          "execution_count": 8
        }
      ]
    },
    {
      "cell_type": "code",
      "metadata": {
        "id": "Zip4KaaPN0vI",
        "colab_type": "code",
        "colab": {}
      },
      "source": [
        "data = stars.values\n",
        "n = len(stars)"
      ],
      "execution_count": 94,
      "outputs": []
    },
    {
      "cell_type": "code",
      "metadata": {
        "id": "LJlSv7HiN0vN",
        "colab_type": "code",
        "colab": {}
      },
      "source": [
        "for i in range(n):\n",
        "    data[i][0] = float(data[i][0])\n",
        "    data[i][1] = float(data[i][1])\n",
        "    data[i][3] = hours2radians(data[i][3])\n",
        "    data[i][4] = 1."
      ],
      "execution_count": 95,
      "outputs": []
    },
    {
      "cell_type": "code",
      "metadata": {
        "id": "MVd5HSdRN0vR",
        "colab_type": "code",
        "colab": {}
      },
      "source": [
        "mean = data.mean(axis=0)\n",
        "data -= mean"
      ],
      "execution_count": 96,
      "outputs": []
    },
    {
      "cell_type": "code",
      "metadata": {
        "id": "G2YboNvnN0vZ",
        "colab_type": "code",
        "colab": {}
      },
      "source": [
        "std = np.ones(5)\n",
        "for i in range(n):\n",
        "    for j in range(4):\n",
        "        std[j] += pow(data[i][j], 2)\n",
        "std = np.sqrt(std/n)\n",
        "data /= std\n",
        "    "
      ],
      "execution_count": 97,
      "outputs": []
    },
    {
      "cell_type": "code",
      "metadata": {
        "id": "QCfaVWg_N0vi",
        "colab_type": "code",
        "colab": {}
      },
      "source": [
        "from keras.datasets import boston_housing\n",
        "from keras.models import Sequential\n",
        "from keras.layers import Dense"
      ],
      "execution_count": 67,
      "outputs": []
    },
    {
      "cell_type": "code",
      "metadata": {
        "id": "dEIEKrtcOds2",
        "colab_type": "code",
        "colab": {}
      },
      "source": [
        "np.random.shuffle(data)\n",
        "data"
      ],
      "execution_count": null,
      "outputs": []
    },
    {
      "cell_type": "code",
      "metadata": {
        "id": "clph8Q0BRSxh",
        "colab_type": "code",
        "colab": {}
      },
      "source": [
        "m = 14\n",
        "x_train = data[:m, :2]\n",
        "y_train = data[:m, 2:4]\n",
        "x_test = data[m:, :2]\n",
        "y_test = data[m:, 2:4]"
      ],
      "execution_count": 69,
      "outputs": []
    },
    {
      "cell_type": "code",
      "metadata": {
        "id": "fxBrgNr5PVJc",
        "colab_type": "code",
        "colab": {}
      },
      "source": [
        "model = Sequential()\n",
        "model.add(Dense(20, activation='relu', input_shape=(x_train.shape[1],)))\n",
        "model.add(Dense(2))\n",
        "model.compile(optimizer='adam', loss='mse', metrics=['mae'])"
      ],
      "execution_count": 82,
      "outputs": []
    },
    {
      "cell_type": "code",
      "metadata": {
        "id": "D3EiHEVASJQn",
        "colab_type": "code",
        "colab": {}
      },
      "source": [
        "model.fit(x_train, y_train, epochs=1000, batch_size=1, verbose=2)"
      ],
      "execution_count": null,
      "outputs": []
    },
    {
      "cell_type": "code",
      "metadata": {
        "id": "WTTM6AldTMIG",
        "colab_type": "code",
        "colab": {
          "base_uri": "https://localhost:8080/",
          "height": 34
        },
        "outputId": "1ad618df-2212-4757-e7cd-a4a9cd37864b"
      },
      "source": [
        "mse, mae = model.evaluate(x_test, y_test, verbose=0)\n",
        "print(mse, mae)"
      ],
      "execution_count": 84,
      "outputs": [
        {
          "output_type": "stream",
          "text": [
            "0.04131016135215759 0.11391717195510864\n"
          ],
          "name": "stdout"
        }
      ]
    },
    {
      "cell_type": "code",
      "metadata": {
        "id": "gLy1-w7dUMPP",
        "colab_type": "code",
        "colab": {}
      },
      "source": [
        "pred = model.predict(x_test)\n"
      ],
      "execution_count": 85,
      "outputs": []
    },
    {
      "cell_type": "code",
      "metadata": {
        "id": "oSgEQ5FBUWY3",
        "colab_type": "code",
        "colab": {
          "base_uri": "https://localhost:8080/",
          "height": 68
        },
        "outputId": "3047fa0c-fb11-40c1-e938-2f1adab810eb"
      },
      "source": [
        "pred"
      ],
      "execution_count": 80,
      "outputs": [
        {
          "output_type": "execute_result",
          "data": {
            "text/plain": [
              "array([[-0.99399596, -0.5296063 ],\n",
              "       [-0.4360113 ,  1.2148613 ],\n",
              "       [ 0.9239692 , -0.59285355]], dtype=float32)"
            ]
          },
          "metadata": {
            "tags": []
          },
          "execution_count": 80
        }
      ]
    },
    {
      "cell_type": "code",
      "metadata": {
        "id": "tQeSkdPWUXcD",
        "colab_type": "code",
        "colab": {
          "base_uri": "https://localhost:8080/",
          "height": 68
        },
        "outputId": "28ac5b31-68bb-49ce-ddb8-ca979a2ed4c4"
      },
      "source": [
        "y_test"
      ],
      "execution_count": 86,
      "outputs": [
        {
          "output_type": "execute_result",
          "data": {
            "text/plain": [
              "array([[-1.046391264856423, -0.5498075402726168],\n",
              "       [-0.8687268303739344, 1.1986895217554112],\n",
              "       [1.04031635189658, -0.6057511583140999]], dtype=object)"
            ]
          },
          "metadata": {
            "tags": []
          },
          "execution_count": 86
        }
      ]
    },
    {
      "cell_type": "code",
      "metadata": {
        "id": "Ed5kAJUJVBkH",
        "colab_type": "code",
        "colab": {}
      },
      "source": [
        "comet"
      ],
      "execution_count": null,
      "outputs": []
    },
    {
      "cell_type": "code",
      "metadata": {
        "id": "8Ou-6sU-lfyd",
        "colab_type": "code",
        "colab": {}
      },
      "source": [
        "data2 = comet.values[:,1:3]"
      ],
      "execution_count": 105,
      "outputs": []
    },
    {
      "cell_type": "code",
      "metadata": {
        "id": "tiOxyFpdl2_M",
        "colab_type": "code",
        "colab": {}
      },
      "source": [
        "data2"
      ],
      "execution_count": null,
      "outputs": []
    },
    {
      "cell_type": "code",
      "metadata": {
        "id": "6Cv87gHImKcv",
        "colab_type": "code",
        "colab": {}
      },
      "source": [
        "data2 -= mean[:2]\n",
        "data2 /= std[:2]"
      ],
      "execution_count": 107,
      "outputs": []
    },
    {
      "cell_type": "code",
      "metadata": {
        "id": "oK55QUBjmMbM",
        "colab_type": "code",
        "colab": {
          "base_uri": "https://localhost:8080/",
          "height": 34
        },
        "outputId": "63d0c814-ef4a-4fcd-9797-998134405f10"
      },
      "source": [
        "mean[:2]"
      ],
      "execution_count": 102,
      "outputs": [
        {
          "output_type": "execute_result",
          "data": {
            "text/plain": [
              "array([981.4117647058823, 322.5882352941176], dtype=object)"
            ]
          },
          "metadata": {
            "tags": []
          },
          "execution_count": 102
        }
      ]
    },
    {
      "cell_type": "code",
      "metadata": {
        "id": "aokMIwJPmwWB",
        "colab_type": "code",
        "colab": {
          "base_uri": "https://localhost:8080/",
          "height": 34
        },
        "outputId": "73809d8e-94c5-4268-a07d-8110ee237492"
      },
      "source": [
        "std[:2]"
      ],
      "execution_count": 103,
      "outputs": [
        {
          "output_type": "execute_result",
          "data": {
            "text/plain": [
              "array([457.05059043, 145.52119669])"
            ]
          },
          "metadata": {
            "tags": []
          },
          "execution_count": 103
        }
      ]
    },
    {
      "cell_type": "code",
      "metadata": {
        "id": "Z-Hl4v8MnRbB",
        "colab_type": "code",
        "colab": {
          "base_uri": "https://localhost:8080/",
          "height": 527
        },
        "outputId": "d2e71108-1d3a-4797-e975-3769e4e402f0"
      },
      "source": [
        "data2"
      ],
      "execution_count": 108,
      "outputs": [
        {
          "output_type": "execute_result",
          "data": {
            "text/plain": [
              "array([[1.6684985234846572, 0.9374013395422823],\n",
              "       [1.6225517498897775, 0.7724769124041835],\n",
              "       [1.572229093095385, 0.6006806341353306],\n",
              "       [1.5153426115017243, 0.44949990925874006],\n",
              "       [1.451892305108795, 0.3051910355129036],\n",
              "       [1.381878173916597, 0.16088216176706713],\n",
              "       [1.3053002179251307, 0.03031699028273891],\n",
              "       [1.2199704955346395, -0.07963262780932696],\n",
              "       [1.1280769483448798, -0.18271039477063872],\n",
              "       [1.0318075179556077, -0.27204445947044226],\n",
              "       [0.9224104379677984, -0.3545066730394916],\n",
              "       [0.810825416380233, -0.4163533332162787],\n",
              "       [0.6883006867938867, -0.4713281422623116],\n",
              "       [0.5570241908085156, -0.5125592490468364],\n",
              "       [0.42137181162363224, -0.5331748024390986],\n",
              "       [0.2769676660397241, -0.553790355831361],\n",
              "       [0.1259996956565474, -0.553790355831361],\n",
              "       [-0.02934415792614169, -0.5400466535698528],\n",
              "       [-0.16937242031053748, -0.5194311001775904],\n",
              "       [-0.35753539788956934, -0.48507184452381985],\n",
              "       [-0.5238189594710393, -0.43696888660854105],\n",
              "       [-0.6944784042520217, -0.3888659286932622],\n",
              "       [-0.8629499074332478, -0.32701926851647517],\n",
              "       [-1.0292334690147178, -0.258300757208934],\n",
              "       [-1.1955170305961877, -0.18958224590139283],\n",
              "       [-1.3596126505779016, -0.12086373459385166],\n",
              "       [-1.517144445760347, -0.052145223286310494],\n",
              "       [-1.6703003577432798, 0.01657328802123068],\n",
              "       [-1.814704503327188, 0.07841994819801773],\n",
              "       [-1.95692070731134, 0.13339475724405067]], dtype=object)"
            ]
          },
          "metadata": {
            "tags": []
          },
          "execution_count": 108
        }
      ]
    },
    {
      "cell_type": "code",
      "metadata": {
        "id": "KSlsC-t5nan3",
        "colab_type": "code",
        "colab": {
          "base_uri": "https://localhost:8080/",
          "height": 306
        },
        "outputId": "0d11dd6b-bd1d-46bc-bae1-6914efb1c4a2"
      },
      "source": [
        "data[:,:2]"
      ],
      "execution_count": 109,
      "outputs": [
        {
          "output_type": "execute_result",
          "data": {
            "text/plain": [
              "array([[1.1849634299385405, -1.2822065756912975],\n",
              "       [1.370938465917816, -0.3338911196472293],\n",
              "       [0.9989883939592649, 0.7793487635349376],\n",
              "       [1.4956511371039187, 1.85135753993258],\n",
              "       [0.6467297963985192, 1.4596620254795951],\n",
              "       [1.2396619699324452, 1.8307419865403176],\n",
              "       [0.5001377092148549, -0.9867169770688704],\n",
              "       [0.12818763725630358, 0.12652290611329656],\n",
              "       [-0.17156036191029367, -0.5056873979160822],\n",
              "       [-0.20437948590663643, -0.3819940775625081],\n",
              "       [-0.40567011308420536, -1.0623073395071656],\n",
              "       [-0.8038754842398309, -0.004042265371031673],\n",
              "       [-0.8629499074332478, 0.16088216176706713],\n",
              "       [-1.090495833807891, -0.32701926851647517],\n",
              "       [-1.186765264197163, -0.6362525694004104],\n",
              "       [-1.374928241776195, -1.4471310028293962],\n",
              "       [-1.4646338473661984, 0.7587332101426753]], dtype=object)"
            ]
          },
          "metadata": {
            "tags": []
          },
          "execution_count": 109
        }
      ]
    },
    {
      "cell_type": "code",
      "metadata": {
        "id": "F2jTQgMnnx7Q",
        "colab_type": "code",
        "colab": {}
      },
      "source": [
        "pred = model.predict(data2)"
      ],
      "execution_count": 110,
      "outputs": []
    },
    {
      "cell_type": "code",
      "metadata": {
        "id": "yIXjZ-VptHic",
        "colab_type": "code",
        "colab": {
          "base_uri": "https://localhost:8080/",
          "height": 527
        },
        "outputId": "ef550059-3b58-4da1-c88f-10a8f2ea1a98"
      },
      "source": [
        "pred"
      ],
      "execution_count": 111,
      "outputs": [
        {
          "output_type": "execute_result",
          "data": {
            "text/plain": [
              "array([[-1.7426003 , -1.3208131 ],\n",
              "       [-1.5606366 , -1.3087403 ],\n",
              "       [-1.3680301 , -1.2944605 ],\n",
              "       [-1.1828632 , -1.2731699 ],\n",
              "       [-0.9947348 , -1.246513  ],\n",
              "       [-0.801977  , -1.2146128 ],\n",
              "       [-0.6400873 , -1.1746572 ],\n",
              "       [-0.43802756, -1.1310805 ],\n",
              "       [-0.24919008, -1.0800911 ],\n",
              "       [-0.07833718, -1.0253963 ],\n",
              "       [ 0.1027039 , -0.9598171 ],\n",
              "       [ 0.2722671 , -0.88895166],\n",
              "       [ 0.43232784, -0.79246897],\n",
              "       [ 0.61463207, -0.64850765],\n",
              "       [ 0.7874284 , -0.48828885],\n",
              "       [ 0.9538853 , -0.32470903],\n",
              "       [ 1.0246133 , -0.18844162],\n",
              "       [ 1.0157884 , -0.0368694 ],\n",
              "       [ 0.9415912 ,  0.11014019],\n",
              "       [ 0.83557457,  0.3075886 ],\n",
              "       [ 0.72506034,  0.4818233 ],\n",
              "       [ 0.63317996,  0.6446958 ],\n",
              "       [ 0.49949992,  0.79846406],\n",
              "       [ 0.34746164,  0.95038   ],\n",
              "       [ 0.19542335,  1.102296  ],\n",
              "       [ 0.04479332,  1.252117  ],\n",
              "       [-0.10161211,  1.3956536 ],\n",
              "       [-0.24520145,  1.5350004 ],\n",
              "       [-0.37865633,  1.6666971 ],\n",
              "       [-0.5062013 ,  1.7970283 ]], dtype=float32)"
            ]
          },
          "metadata": {
            "tags": []
          },
          "execution_count": 111
        }
      ]
    },
    {
      "cell_type": "code",
      "metadata": {
        "id": "YPoUEF_3tIm3",
        "colab_type": "code",
        "colab": {
          "base_uri": "https://localhost:8080/",
          "height": 527
        },
        "outputId": "bf81ce72-b261-4cd0-cba8-e08091df45df"
      },
      "source": [
        "grads = pred*std[2:4]+mean[2:4]\n",
        "grads"
      ],
      "execution_count": 113,
      "outputs": [
        {
          "output_type": "execute_result",
          "data": {
            "text/plain": [
              "array([[26.214060796101435, 1.5347442803575015],\n",
              "       [27.713487687475084, 1.541523932105295],\n",
              "       [29.300614660107353, 1.5495429117438295],\n",
              "       [30.826436349624117, 1.5614989816384144],\n",
              "       [32.376662176381984, 1.5764685201767472],\n",
              "       [33.96503570647028, 1.5943825084502037],\n",
              "       [35.29904766506709, 1.6168201472875308],\n",
              "       [36.96407121745191, 1.6412912665985333],\n",
              "       [38.520139975311565, 1.669925076283978],\n",
              "       [39.92801119991443, 1.7006396956074017],\n",
              "       [41.419835588836314, 1.737466638850668],\n",
              "       [42.81707939541124, 1.77726213154497],\n",
              "       [44.13602043507202, 1.8314433471596523],\n",
              "       [45.63825355419391, 1.912286848339093],\n",
              "       [47.062138965500466, 2.0022599746063907],\n",
              "       [48.433786350269855, 2.094120527027393],\n",
              "       [49.01660255017657, 2.1706434093815594],\n",
              "       [48.94388375163029, 2.2557609261422327],\n",
              "       [48.332479735833736, 2.338316228887663],\n",
              "       [47.45887576775734, 2.4491961683224597],\n",
              "       [46.54821053649737, 2.5470401111831786],\n",
              "       [45.79109289315503, 2.638503470161317],\n",
              "       [44.689535412979794, 2.7248541915602598],\n",
              "       [43.43670145665868, 2.8101647424430065],\n",
              "       [42.18386737754822, 2.8954752933257537],\n",
              "       [40.94263775130392, 2.9796094098819226],\n",
              "       [39.73621988739661, 3.0602143908174964],\n",
              "       [38.55300724554121, 3.1384665700435694],\n",
              "       [37.45330523519635, 3.212422707133824],\n",
              "       [36.402302094025075, 3.285612004652511]], dtype=object)"
            ]
          },
          "metadata": {
            "tags": []
          },
          "execution_count": 113
        }
      ]
    },
    {
      "cell_type": "code",
      "metadata": {
        "id": "VIPGrusYtwC7",
        "colab_type": "code",
        "colab": {}
      },
      "source": [
        ""
      ],
      "execution_count": null,
      "outputs": []
    }
  ]
}